{
 "cells": [
  {
   "cell_type": "markdown",
   "metadata": {},
   "source": [
    "# b.     STORING THE DATA"
   ]
  },
  {
   "cell_type": "markdown",
   "metadata": {},
   "source": [
    "#### ALL REQUIRED IMPORTS"
   ]
  },
  {
   "cell_type": "code",
   "execution_count": 39,
   "metadata": {
    "collapsed": true
   },
   "outputs": [],
   "source": [
    "import os\n",
    "import csv\n",
    "import requests\n",
    "from pprint import pprint\n",
    "import json\n",
    "from datetime import datetime\n",
    "import string\n",
    "import glob\n",
    "import shutil"
   ]
  },
  {
   "cell_type": "code",
   "execution_count": 69,
   "metadata": {
    "collapsed": false
   },
   "outputs": [
    {
     "data": {
      "text/plain": [
       "'/Users/sonalichaudhari/Desktop/FINAL_Python/'"
      ]
     },
     "execution_count": 69,
     "metadata": {},
     "output_type": "execute_result"
    }
   ],
   "source": [
    "directory = os.path.dirname(os.getcwd())\n",
    "directory\n",
    "cur_path= directory+'/FINAL_Python/'\n",
    "cur_path"
   ]
  },
  {
   "cell_type": "code",
   "execution_count": 43,
   "metadata": {
    "collapsed": false
   },
   "outputs": [
    {
     "name": "stdout",
     "output_type": "stream",
     "text": [
      "6000104f0995469ad462f7a6ceeed6d9\n"
     ]
    }
   ],
   "source": [
    "key = os.environ.get('k1')\n",
    "print(key)"
   ]
  },
  {
   "cell_type": "code",
   "execution_count": 45,
   "metadata": {
    "collapsed": true
   },
   "outputs": [],
   "source": [
    "#id_list = []"
   ]
  },
  {
   "cell_type": "code",
   "execution_count": 46,
   "metadata": {
    "collapsed": true
   },
   "outputs": [],
   "source": [
    "with open(cur_path+'IDS.csv', newline='') as f:\n",
    "                reader = csv.reader(f)\n",
    "                next(reader, None)\n",
    "                try:\n",
    "                    for record in reader:\n",
    "                        c = record[0]\n",
    "                        #print(c)\n",
    "                        if c not in id_list:\n",
    "                            id_list.append(c)                       \n",
    "                except csv.Error as e:\n",
    "                    sys.exit('file {}, line {}: {}'.format(filename, reader.line_num, e))"
   ]
  },
  {
   "cell_type": "code",
   "execution_count": 47,
   "metadata": {
    "collapsed": false
   },
   "outputs": [
    {
     "data": {
      "text/plain": [
       "392"
      ]
     },
     "execution_count": 47,
     "metadata": {},
     "output_type": "execute_result"
    }
   ],
   "source": [
    "id_list = [int(x) for x in id_list]\n",
    "len(id_list)"
   ]
  },
  {
   "cell_type": "markdown",
   "metadata": {},
   "source": [
    "#### COLLECTING RESTAURANT DATA PER CITY ID"
   ]
  },
  {
   "cell_type": "code",
   "execution_count": 48,
   "metadata": {
    "collapsed": true
   },
   "outputs": [],
   "source": [
    "#result=[]"
   ]
  },
  {
   "cell_type": "code",
   "execution_count": 49,
   "metadata": {
    "collapsed": false
   },
   "outputs": [],
   "source": [
    "header1={'user-key':key}\n",
    "\n",
    "for f in id_list:\n",
    "    try:\n",
    "        v = str(f)\n",
    "        url1 = 'https://developers.zomato.com/api/v2.1/search?entity_id='+v+'&entity_type=city&count=200'\n",
    "        result.append(requests.get(url1,headers=header1).json())\n",
    "    except ValueError:\n",
    "        continue"
   ]
  },
  {
   "cell_type": "code",
   "execution_count": 34,
   "metadata": {
    "collapsed": false
   },
   "outputs": [],
   "source": [
    "COUNTRY={1:'India',14:'Australia',216:'United States',37:'Canada',123:'Malaysia',215:'United Kingdom',\\\n",
    "         54:'Czech Republic', 30: 'Brasil',42:'Chile',94:'Indonesia',97:'Ireland',99:'Italy',\\\n",
    "        112:'Lebanon',148:'New Zealand', 162:'Philippines',163:'Poland',164:'Portugal',166:'Qatar',\\\n",
    "        184:'Singapore',185:'Slovakia', 189:'South Africa',191:'Sri Lanka', 208:'Turkey',214:'UAE',}\n",
    "with open('COUNTRY.json', 'w') as outfile:\n",
    "    json.dump(COUNTRY, outfile)\n",
    "#len(COUNTRY)"
   ]
  },
  {
   "cell_type": "code",
   "execution_count": null,
   "metadata": {
    "collapsed": false
   },
   "outputs": [],
   "source": []
  },
  {
   "cell_type": "code",
   "execution_count": null,
   "metadata": {
    "collapsed": true
   },
   "outputs": [],
   "source": [
    "#Storing\n",
    "final=[]\n",
    "for i in range(len(result)):\n",
    "    for j in range(len(result[i]['restaurants'])):\n",
    "        if result[i]['restaurants'][j] not in final:\n",
    "            final.append(result[i]['restaurants'][j])\n",
    "            \n",
    "#len(final)"
   ]
  },
  {
   "cell_type": "code",
   "execution_count": 58,
   "metadata": {
    "collapsed": false
   },
   "outputs": [],
   "source": [
    "#APPENDING COUNTRY NAME TO EVERY RESTAURANT JSON FILE\n",
    "for i in range(len(final)):\n",
    "    countryid=final[i]['restaurant']['location']['country_id']\n",
    "    if(countryid in COUNTRY.keys()):\n",
    "        h=COUNTRY[countryid]\n",
    "        final[i]['restaurant']['location']['country_name']=h"
   ]
  },
  {
   "cell_type": "code",
   "execution_count": 59,
   "metadata": {
    "collapsed": false
   },
   "outputs": [],
   "source": [
    "# LOADING THE JSON FILES IN TEMPORARY FOLDER\n",
    "p = cur_path+'/TEMP/'\n",
    "for y in final:\n",
    "    rest = y['restaurant']['name'].replace('/',' ')+'_'+str(y['restaurant']['R']['res_id'])\n",
    "    with open(p + rest + str(datetime.now()) +'.json', 'w',encoding=\"utf-8\") as outfile:\n",
    "                        json.dump(y, outfile, ensure_ascii=False)"
   ]
  },
  {
   "cell_type": "code",
   "execution_count": 364,
   "metadata": {
    "collapsed": false
   },
   "outputs": [],
   "source": [
    "#final[1748]\n",
    "#1836\n",
    "#3026"
   ]
  },
  {
   "cell_type": "code",
   "execution_count": 60,
   "metadata": {
    "collapsed": true
   },
   "outputs": [],
   "source": [
    "def read_files(file):      # Create a function to read files. \n",
    "    with open (file, encoding='utf-8', errors=\"ignore\") as f:   # Need to deal with unicode problem.\n",
    "        content = json.load(f)\n",
    "        hierarchy_list = {'country': content['restaurant']['location']['country_name'],\\\n",
    "                          'city': content['restaurant']['location']['city'],\\\n",
    "                          'name': content['restaurant']['name']}\n",
    "        # Remove the ',' in some names for later output csv file.\n",
    "        return hierarchy_list"
   ]
  },
  {
   "cell_type": "code",
   "execution_count": 61,
   "metadata": {
    "collapsed": true
   },
   "outputs": [],
   "source": [
    "def file_distribution(dict, file):   # Generate hierarchy folder structure and dump json file\n",
    "    file_name = '/Users/sonalichaudhari/Desktop/FINAL_Python/Data/'\\\n",
    "    +'/' + dict['country'] + '/' + dict['city'] + '/' + dict['name'] \\\n",
    "                + '.json'\n",
    "    os.makedirs(os.path.dirname(file_name), exist_ok=True)\n",
    "    #fp = open (file_name, 'w')\n",
    "    #with open (file, 'r', encoding='utf-8', errors=\"ignore\") as jfile:\n",
    "        #fp.write(json.dumps(json.load(jfile)))      # Try to find out the difference between dump and dumps\n",
    "    shutil.move(file,file_name)"
   ]
  },
  {
   "cell_type": "code",
   "execution_count": 62,
   "metadata": {
    "collapsed": true
   },
   "outputs": [],
   "source": [
    "for json_file in glob.glob(\"/Users/sonalichaudhari/Desktop/FINAL_Python/TEMP/*.json\"):\n",
    "    file_distribution(read_files(json_file),json_file)"
   ]
  }
 ],
 "metadata": {
  "anaconda-cloud": {},
  "kernelspec": {
   "display_name": "Python [conda root]",
   "language": "python",
   "name": "conda-root-py"
  },
  "language_info": {
   "codemirror_mode": {
    "name": "ipython",
    "version": 3
   },
   "file_extension": ".py",
   "mimetype": "text/x-python",
   "name": "python",
   "nbconvert_exporter": "python",
   "pygments_lexer": "ipython3",
   "version": "3.5.2"
  }
 },
 "nbformat": 4,
 "nbformat_minor": 1
}
