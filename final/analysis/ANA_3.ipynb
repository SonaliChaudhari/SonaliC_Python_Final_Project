{
 "cells": [
  {
   "cell_type": "markdown",
   "metadata": {},
   "source": [
    "# ANALYSIS 3\n",
    "\n",
    "# FINDING THE NEAREST 10 RESTAURANTS TO A GIVEN ADDRESS"
   ]
  },
  {
   "cell_type": "markdown",
   "metadata": {},
   "source": [
    "### ALL REQUIRED IMPORTS"
   ]
  },
  {
   "cell_type": "code",
   "execution_count": 5,
   "metadata": {
    "collapsed": true
   },
   "outputs": [],
   "source": [
    "import string\n",
    "import csv, sys\n",
    "from pandas import Series, DataFrame\n",
    "import pandas as pd\n",
    "import os\n",
    "import fnmatch\n",
    "import json\n",
    "import nltk\n",
    "from pprint import pprint\n",
    "from geopy.geocoders import Nominatim\n",
    "from geopy.distance import vincenty"
   ]
  },
  {
   "cell_type": "markdown",
   "metadata": {},
   "source": [
    "#### GETTING THE SYSTEM PATH"
   ]
  },
  {
   "cell_type": "code",
   "execution_count": 6,
   "metadata": {
    "collapsed": false
   },
   "outputs": [
    {
     "data": {
      "text/plain": [
       "'/Users/sonalichaudhari/Desktop/final'"
      ]
     },
     "execution_count": 6,
     "metadata": {},
     "output_type": "execute_result"
    }
   ],
   "source": [
    "directory = os.path.dirname(os.getcwd()) \n",
    "path = directory+'/data/'\n",
    "path\n",
    "directory"
   ]
  },
  {
   "cell_type": "markdown",
   "metadata": {},
   "source": [
    "#### TAKING USER INPUT FOR ADDRESS  "
   ]
  },
  {
   "cell_type": "code",
   "execution_count": 8,
   "metadata": {
    "collapsed": false
   },
   "outputs": [
    {
     "name": "stdout",
     "output_type": "stream",
     "text": [
      "STREET NAME AND CITY NAME COUNTRY MANDATORY\n",
      "Enter Address: MUMBAI\n",
      "MUMBAI\n"
     ]
    }
   ],
   "source": [
    "print('STREET NAME AND CITY NAME COUNTRY MANDATORY')\n",
    "address1 = input(\"Enter Address: \")\n",
    "print (address1) "
   ]
  },
  {
   "cell_type": "markdown",
   "metadata": {},
   "source": [
    "#### Retrieving the complete address with latitude and longitude"
   ]
  },
  {
   "cell_type": "code",
   "execution_count": 9,
   "metadata": {
    "collapsed": false
   },
   "outputs": [
    {
     "name": "stdout",
     "output_type": "stream",
     "text": [
      "Mumbai, Greater Bombay, Maharashtra, India\n",
      "(18.9321862, 72.8308337)\n"
     ]
    }
   ],
   "source": [
    "# Getting the complete address \n",
    "\n",
    "geolocator = Nominatim()\n",
    "location = geolocator.geocode(address1) #Passing the address which stores user input\n",
    "print(location.address)\n",
    "print((location.latitude, location.longitude))"
   ]
  },
  {
   "cell_type": "code",
   "execution_count": 10,
   "metadata": {
    "collapsed": true
   },
   "outputs": [],
   "source": [
    "# Storing the source latitude and longitude \n",
    "\n",
    "s_lat = location.latitude\n",
    "s_lon = location.longitude"
   ]
  },
  {
   "cell_type": "markdown",
   "metadata": {},
   "source": [
    "####  STORING OF INTERMEDIATE DATA"
   ]
  },
  {
   "cell_type": "code",
   "execution_count": 11,
   "metadata": {
    "collapsed": false
   },
   "outputs": [],
   "source": [
    "DISTANCE={} # to store the  restaurant ids and their distances whose distance is less than 25 miles\n",
    "temp = [] # to store th data about all the restaurants whose distance is less than 25 miles\n",
    "for subdir, dirs, files in os.walk(path):\n",
    "        for file in files:           \n",
    "            if file.endswith('.json'): # Retrieving only the JSON files\n",
    "                reqpath = subdir+'/'+file # Path of evry JSON file is stored in reqpath\n",
    "                \n",
    "                with open(reqpath) as json_file:\n",
    "                    g = json.load(json_file)\n",
    "                    des_lat = g['restaurant']['location']['latitude']  # Destination latitude value\n",
    "                    des_log = g['restaurant']['location']['longitude'] # Destination longitude value\n",
    "                    source =(s_lat,s_lon)\n",
    "                    destination =(des_lat,des_log)\n",
    "# Finding the distance between the source and destinaltion \n",
    "                    d = vincenty(source, destination).miles\n",
    "                    if d<=25:    # Filtering for distance less than 25(miles)\n",
    "                        temp.append(g)\n",
    "                        dd= round(d,4) # Rounding of the float value to 4 decimal places\n",
    "                        DISTANCE[g['restaurant']['R']['res_id']]= dd\n",
    "                "
   ]
  },
  {
   "cell_type": "code",
   "execution_count": 12,
   "metadata": {
    "collapsed": false
   },
   "outputs": [],
   "source": [
    "# Sorting in ascending order of distance and getting the top 10\n",
    "S = sorted(DISTANCE.items(), key=lambda x: x[1], reverse=False)[:10]"
   ]
  },
  {
   "cell_type": "code",
   "execution_count": 13,
   "metadata": {
    "collapsed": false
   },
   "outputs": [],
   "source": [
    "# Storing the restaurant id of top 10 obtained above in RES_ID list\n",
    "RES_ID=[]\n",
    "for k,v in S:\n",
    "    RES_ID.append(k)\n",
    "#RES_ID"
   ]
  },
  {
   "cell_type": "code",
   "execution_count": 14,
   "metadata": {
    "collapsed": false
   },
   "outputs": [],
   "source": [
    "# Storing the data of restaurant of top 10 obtained above in RES_ID list\n",
    "RES=[]\n",
    "\n",
    "for e in temp:\n",
    "    if (e['restaurant']['R']['res_id'] in RES_ID) == True:\n",
    "        RES.append(e)"
   ]
  },
  {
   "cell_type": "markdown",
   "metadata": {},
   "source": [
    "#### STORING THE RES[ ] LIST DATA IN A CSV"
   ]
  },
  {
   "cell_type": "code",
   "execution_count": 15,
   "metadata": {
    "collapsed": false
   },
   "outputs": [],
   "source": [
    "with open(directory+'/analysis/ana_3/ANA_3_Part1.csv', 'w') as csvfile:    # Creating CSV\n",
    "    fieldnames = ['RES_ID', 'Name','CUISINES','USER RATING','VOTES',\\\n",
    "                 'RATING TEXT','ADDRESS','AVG COST for TWO','DISTANCE']#Naming the title Row of the CSV\n",
    "    writer = csv.DictWriter(csvfile, fieldnames=fieldnames)\n",
    "    writer.writeheader()\n",
    "    for j in range(len(RES)-1):\n",
    "        for k,v in S: # if restaurant id is present in the list of top 10 nearest restaurants list\n",
    "            if k == RES[j]['restaurant']['R']['res_id']:\n",
    "                r = RES[j]['restaurant']['R']['res_id']\n",
    "                n = RES[j]['restaurant']['name']\n",
    "                cu= RES[j]['restaurant']['cuisines']\n",
    "                u = RES[j]['restaurant']['user_rating']['aggregate_rating']\n",
    "                vo = RES[j]['restaurant']['user_rating']['votes']\n",
    "                rt= RES[j]['restaurant']['user_rating']['rating_text']\n",
    "                add= RES[j]['restaurant']['location']['address']\n",
    "                avg=str(RES[j]['restaurant']['average_cost_for_two'])+temp[j]['restaurant']['currency']\n",
    "                dis = str(v)+' miles'\n",
    "                # appending the rows to the csv\n",
    "                writer.writerow({'RES_ID':r, 'Name':n,'CUISINES':cu,'USER RATING':u,\\\n",
    "                                 'VOTES':vo,'RATING TEXT':rt,'ADDRESS':add,'AVG COST for TWO':avg,'DISTANCE':dis}) "
   ]
  },
  {
   "cell_type": "markdown",
   "metadata": {},
   "source": [
    "#### CONVERTING THE CSV INTO DATAFRAME"
   ]
  },
  {
   "cell_type": "code",
   "execution_count": 16,
   "metadata": {
    "collapsed": false
   },
   "outputs": [
    {
     "data": {
      "text/html": [
       "<div>\n",
       "<table border=\"1\" class=\"dataframe\">\n",
       "  <thead>\n",
       "    <tr style=\"text-align: right;\">\n",
       "      <th></th>\n",
       "      <th>RES_ID</th>\n",
       "      <th>Name</th>\n",
       "      <th>CUISINES</th>\n",
       "      <th>USER RATING</th>\n",
       "      <th>VOTES</th>\n",
       "      <th>RATING TEXT</th>\n",
       "      <th>ADDRESS</th>\n",
       "      <th>AVG COST for TWO</th>\n",
       "      <th>DISTANCE</th>\n",
       "    </tr>\n",
       "  </thead>\n",
       "  <tbody>\n",
       "    <tr>\n",
       "      <th>0</th>\n",
       "      <td>18233317</td>\n",
       "      <td>145 Kala Ghoda</td>\n",
       "      <td>Fast Food, Beverages, Desserts</td>\n",
       "      <td>4.2</td>\n",
       "      <td>1606</td>\n",
       "      <td>Very Good</td>\n",
       "      <td>145, Kala Ghoda, Fort, Mumbai</td>\n",
       "      <td>1500Rs.</td>\n",
       "      <td>0.3366 miles</td>\n",
       "    </tr>\n",
       "    <tr>\n",
       "      <th>1</th>\n",
       "      <td>49261</td>\n",
       "      <td>Colaba Social</td>\n",
       "      <td>Mediterranean, American, North Indian, Desserts</td>\n",
       "      <td>4.0</td>\n",
       "      <td>4836</td>\n",
       "      <td>Very Good</td>\n",
       "      <td>24, Ground Floor, Glen Rose Building, Behind T...</td>\n",
       "      <td>1200Rs.</td>\n",
       "      <td>0.7853 miles</td>\n",
       "    </tr>\n",
       "    <tr>\n",
       "      <th>2</th>\n",
       "      <td>18448467</td>\n",
       "      <td>D:OH!</td>\n",
       "      <td>Fast Food, Italian, Beverages</td>\n",
       "      <td>4.0</td>\n",
       "      <td>148</td>\n",
       "      <td>Very Good</td>\n",
       "      <td>Ground Floor, Unit 2B, Trade View, Kamala City...</td>\n",
       "      <td>800Rs.</td>\n",
       "      <td>5.0795 miles</td>\n",
       "    </tr>\n",
       "    <tr>\n",
       "      <th>3</th>\n",
       "      <td>18313566</td>\n",
       "      <td>Farzi Cafe</td>\n",
       "      <td>Modern Indian</td>\n",
       "      <td>4.3</td>\n",
       "      <td>1240</td>\n",
       "      <td>Very Good</td>\n",
       "      <td>Kamala Mills, Near Radio Mirchi Office, Lower ...</td>\n",
       "      <td>1500Rs.</td>\n",
       "      <td>4.9106 miles</td>\n",
       "    </tr>\n",
       "    <tr>\n",
       "      <th>4</th>\n",
       "      <td>18175468</td>\n",
       "      <td>Grandmama's Café</td>\n",
       "      <td>Cafe</td>\n",
       "      <td>4.1</td>\n",
       "      <td>2098</td>\n",
       "      <td>Very Good</td>\n",
       "      <td>Shop 5, Near Swaminarayan Mandir, Pritam Estat...</td>\n",
       "      <td>1000Rs.</td>\n",
       "      <td>5.9034 miles</td>\n",
       "    </tr>\n",
       "  </tbody>\n",
       "</table>\n",
       "</div>"
      ],
      "text/plain": [
       "     RES_ID              Name  \\\n",
       "0  18233317    145 Kala Ghoda   \n",
       "1     49261     Colaba Social   \n",
       "2  18448467             D:OH!   \n",
       "3  18313566        Farzi Cafe   \n",
       "4  18175468  Grandmama's Café   \n",
       "\n",
       "                                          CUISINES  USER RATING  VOTES  \\\n",
       "0                   Fast Food, Beverages, Desserts          4.2   1606   \n",
       "1  Mediterranean, American, North Indian, Desserts          4.0   4836   \n",
       "2                    Fast Food, Italian, Beverages          4.0    148   \n",
       "3                                    Modern Indian          4.3   1240   \n",
       "4                                             Cafe          4.1   2098   \n",
       "\n",
       "  RATING TEXT                                            ADDRESS  \\\n",
       "0   Very Good                      145, Kala Ghoda, Fort, Mumbai   \n",
       "1   Very Good  24, Ground Floor, Glen Rose Building, Behind T...   \n",
       "2   Very Good  Ground Floor, Unit 2B, Trade View, Kamala City...   \n",
       "3   Very Good  Kamala Mills, Near Radio Mirchi Office, Lower ...   \n",
       "4   Very Good  Shop 5, Near Swaminarayan Mandir, Pritam Estat...   \n",
       "\n",
       "  AVG COST for TWO      DISTANCE  \n",
       "0          1500Rs.  0.3366 miles  \n",
       "1          1200Rs.  0.7853 miles  \n",
       "2           800Rs.  5.0795 miles  \n",
       "3          1500Rs.  4.9106 miles  \n",
       "4          1000Rs.  5.9034 miles  "
      ]
     },
     "execution_count": 16,
     "metadata": {},
     "output_type": "execute_result"
    }
   ],
   "source": [
    "t = pd.read_csv(directory+'/analysis/ana_3/ANA_3_Part1.csv').reset_index(0,drop=True)\n",
    "t.head()"
   ]
  },
  {
   "cell_type": "code",
   "execution_count": null,
   "metadata": {
    "collapsed": true
   },
   "outputs": [],
   "source": []
  }
 ],
 "metadata": {
  "anaconda-cloud": {},
  "kernelspec": {
   "display_name": "Python [conda root]",
   "language": "python",
   "name": "conda-root-py"
  },
  "language_info": {
   "codemirror_mode": {
    "name": "ipython",
    "version": 3
   },
   "file_extension": ".py",
   "mimetype": "text/x-python",
   "name": "python",
   "nbconvert_exporter": "python",
   "pygments_lexer": "ipython3",
   "version": "3.5.2"
  }
 },
 "nbformat": 4,
 "nbformat_minor": 1
}
