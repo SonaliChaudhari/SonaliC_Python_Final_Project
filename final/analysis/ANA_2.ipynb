{
 "cells": [
  {
   "cell_type": "markdown",
   "metadata": {},
   "source": [
    "# ANALYSIS 2 \n",
    "\n",
    "# As per User input retrieving the best rated restaurant details"
   ]
  },
  {
   "cell_type": "markdown",
   "metadata": {},
   "source": [
    "### ALL REQUIRED IMPORTS"
   ]
  },
  {
   "cell_type": "code",
   "execution_count": 2,
   "metadata": {
    "collapsed": true
   },
   "outputs": [],
   "source": [
    "import string\n",
    "import csv, sys\n",
    "from pandas import Series, DataFrame\n",
    "import pandas as pd\n",
    "import os\n",
    "import glob\n",
    "from os.path import basename\n",
    "import fnmatch\n",
    "import json\n",
    "import nltk\n",
    "from pprint import pprint"
   ]
  },
  {
   "cell_type": "code",
   "execution_count": 3,
   "metadata": {
    "collapsed": false
   },
   "outputs": [
    {
     "data": {
      "text/plain": [
       "'/Users/sonalichaudhari/Desktop/FINAL_Python/data/'"
      ]
     },
     "execution_count": 3,
     "metadata": {},
     "output_type": "execute_result"
    }
   ],
   "source": [
    "directory = os.path.dirname(os.getcwd()) \n",
    "#path =  directory + '/data/'\n",
    "path= \"/Users/sonalichaudhari/Desktop/FINAL_Python/data/\"\n",
    "path\n"
   ]
  },
  {
   "cell_type": "code",
   "execution_count": 7,
   "metadata": {
    "collapsed": false
   },
   "outputs": [
    {
     "name": "stdout",
     "output_type": "stream",
     "text": [
      "Enter CITY: mumbai\n",
      "mumbai\n"
     ]
    }
   ],
   "source": [
    "input_var = input(\"Enter CITY: \")\n",
    "print (input_var) "
   ]
  },
  {
   "cell_type": "code",
   "execution_count": 8,
   "metadata": {
    "collapsed": false
   },
   "outputs": [],
   "source": [
    "cuisines = {}\n",
    "set = []\n",
    "temp =[]\n",
    "r= 0 \n",
    "cur_path = \"/Users/sonalichaudhari/Desktop/FINAL_Python/data/\"\n",
    "for subdir, dirs, files in os.walk(cur_path):\n",
    "    #for folder in os.listdir(cur_path):\n",
    "            #print(folder)\n",
    "        for file in files:\n",
    "            if file.endswith('.json'):\n",
    "                #print(file)\n",
    "                reqpath = subdir+'/'+file \n",
    "                #print(reqpath)\n",
    "                with open(reqpath) as json_file:\n",
    "                    \n",
    "                    d = json.load(json_file)\n",
    "                   \n",
    "                    city = d['restaurant']['location']['city'].lower()\n",
    "                    if city == input_var.lower():\n",
    "                        temp.append(d)\n",
    "                        r = r+1\n",
    "                        cuis = d['restaurant']['cuisines'].split(',')\n",
    "                        #print(type(d['restaurant']['R']['res_id']))\n",
    "                        for x in cuis:       \n",
    "                            t = x.strip() #Use of nltk to eliminate blank spaces\n",
    "                            if t not in cuisines:\n",
    "                                cuisines[t]={}\n",
    "                                cuisines[t][d['restaurant']['R']['res_id']]=float(d['restaurant']['user_rating']['aggregate_rating'])\n",
    "                                set.append(t)\n",
    "                            else:\n",
    "                                cuisines[t][d['restaurant']['R']['res_id']]=float(d['restaurant']['user_rating']['aggregate_rating'])"
   ]
  },
  {
   "cell_type": "code",
   "execution_count": 27,
   "metadata": {
    "collapsed": true
   },
   "outputs": [],
   "source": [
    "with open('/Users/sonalichaudhari/Desktop/FINAL_Python/csv/ANA_2.csv', 'a') as csvfile:    \n",
    "    fieldnames = ['RES_ID', 'Name','CUSINES','USER RATING','VOTES',\\\n",
    "                 'RATING TEXT','LATITUDE','LONGITUDE','AVG COST for TWO','CURRENCY']#Naming the title Row of the CSV\n",
    "    writer = csv.DictWriter(csvfile, fieldnames=fieldnames)\n",
    "    writer.writeheader()\n",
    "    for j in range(len(temp)-1):\n",
    "        list_item =[]\n",
    "        list_item = temp[j]['restaurant']['cuisines'].split(',')\n",
    "        for x in range(len(list_item)-1):\n",
    "            r = temp[j]['restaurant']['R']['res_id']\n",
    "            n = temp[j]['restaurant']['name']\n",
    "            cu= list_item[x].strip()\n",
    "            u = temp[j]['restaurant']['user_rating']['aggregate_rating']\n",
    "            v = temp[j]['restaurant']['user_rating']['votes']\n",
    "            rt= temp[j]['restaurant']['user_rating']['rating_text']\n",
    "            la= temp[j]['restaurant']['location']['latitude']\n",
    "            lo= temp[j]['restaurant']['location']['longitude']\n",
    "            avg=temp[j]['restaurant']['average_cost_for_two']\n",
    "            cur=temp[j]['restaurant']['currency']\n",
    "            writer.writerow({'RES_ID':r, 'Name':n,'CUSINES':cu,'USER RATING':u,'VOTES':v,\\\n",
    "                 'RATING TEXT':rt,'LATITUDE':la,'LONGITUDE':lo,'AVG COST for TWO':avg,'CURRENCY':cur}) "
   ]
  },
  {
   "cell_type": "code",
   "execution_count": 28,
   "metadata": {
    "collapsed": false
   },
   "outputs": [
    {
     "data": {
      "text/html": [
       "<div>\n",
       "<table border=\"1\" class=\"dataframe\">\n",
       "  <thead>\n",
       "    <tr style=\"text-align: right;\">\n",
       "      <th></th>\n",
       "      <th>RES_ID</th>\n",
       "      <th>Name</th>\n",
       "      <th>CUSINES</th>\n",
       "      <th>USER RATING</th>\n",
       "      <th>VOTES</th>\n",
       "      <th>RATING TEXT</th>\n",
       "      <th>LATITUDE</th>\n",
       "      <th>LONGITUDE</th>\n",
       "      <th>AVG COST for TWO</th>\n",
       "      <th>CURRENCY</th>\n",
       "    </tr>\n",
       "  </thead>\n",
       "  <tbody>\n",
       "    <tr>\n",
       "      <th>0</th>\n",
       "      <td>18233317</td>\n",
       "      <td>145 Kala Ghoda</td>\n",
       "      <td>Fast Food</td>\n",
       "      <td>4.2</td>\n",
       "      <td>1606</td>\n",
       "      <td>Very Good</td>\n",
       "      <td>18.927584</td>\n",
       "      <td>72.832585</td>\n",
       "      <td>1500</td>\n",
       "      <td>Rs.</td>\n",
       "    </tr>\n",
       "    <tr>\n",
       "      <th>1</th>\n",
       "      <td>18233317</td>\n",
       "      <td>145 Kala Ghoda</td>\n",
       "      <td>Beverages</td>\n",
       "      <td>4.2</td>\n",
       "      <td>1606</td>\n",
       "      <td>Very Good</td>\n",
       "      <td>18.927584</td>\n",
       "      <td>72.832585</td>\n",
       "      <td>1500</td>\n",
       "      <td>Rs.</td>\n",
       "    </tr>\n",
       "    <tr>\n",
       "      <th>2</th>\n",
       "      <td>18435740</td>\n",
       "      <td>38 Degree East</td>\n",
       "      <td>North Indian</td>\n",
       "      <td>3.8</td>\n",
       "      <td>181</td>\n",
       "      <td>Good</td>\n",
       "      <td>19.121999</td>\n",
       "      <td>72.908493</td>\n",
       "      <td>1000</td>\n",
       "      <td>Rs.</td>\n",
       "    </tr>\n",
       "  </tbody>\n",
       "</table>\n",
       "</div>"
      ],
      "text/plain": [
       "     RES_ID            Name       CUSINES  USER RATING  VOTES RATING TEXT  \\\n",
       "0  18233317  145 Kala Ghoda     Fast Food          4.2   1606   Very Good   \n",
       "1  18233317  145 Kala Ghoda     Beverages          4.2   1606   Very Good   \n",
       "2  18435740  38 Degree East  North Indian          3.8    181        Good   \n",
       "\n",
       "    LATITUDE  LONGITUDE  AVG COST for TWO CURRENCY  \n",
       "0  18.927584  72.832585              1500      Rs.  \n",
       "1  18.927584  72.832585              1500      Rs.  \n",
       "2  19.121999  72.908493              1000      Rs.  "
      ]
     },
     "execution_count": 28,
     "metadata": {},
     "output_type": "execute_result"
    }
   ],
   "source": [
    "t = pd.read_csv('/Users/sonalichaudhari/Desktop/FINAL_Python/csv/ANA_2.csv').reset_index(0,drop=True)\n",
    "t.head(3)"
   ]
  },
  {
   "cell_type": "code",
   "execution_count": null,
   "metadata": {
    "collapsed": true
   },
   "outputs": [],
   "source": []
  },
  {
   "cell_type": "code",
   "execution_count": 91,
   "metadata": {
    "collapsed": false,
    "scrolled": true
   },
   "outputs": [
    {
     "name": "stdout",
     "output_type": "stream",
     "text": [
      "538.3904451566326\n"
     ]
    },
    {
     "data": {
      "text/plain": [
       "538.3904451566326"
      ]
     },
     "execution_count": 91,
     "metadata": {},
     "output_type": "execute_result"
    }
   ],
   "source": [
    "from geopy.distance import vincenty\n",
    "newport_ri = (41.49008, -71.312796)\n",
    "cleveland_oh = (41.499498, -81.695391)\n",
    "print(vincenty(newport_ri, cleveland_oh).miles)\n",
    "538.3904451566326"
   ]
  },
  {
   "cell_type": "code",
   "execution_count": null,
   "metadata": {
    "collapsed": true
   },
   "outputs": [],
   "source": []
  },
  {
   "cell_type": "code",
   "execution_count": null,
   "metadata": {
    "collapsed": true
   },
   "outputs": [],
   "source": []
  }
 ],
 "metadata": {
  "anaconda-cloud": {},
  "kernelspec": {
   "display_name": "Python [conda root]",
   "language": "python",
   "name": "conda-root-py"
  },
  "language_info": {
   "codemirror_mode": {
    "name": "ipython",
    "version": 3
   },
   "file_extension": ".py",
   "mimetype": "text/x-python",
   "name": "python",
   "nbconvert_exporter": "python",
   "pygments_lexer": "ipython3",
   "version": "3.5.2"
  }
 },
 "nbformat": 4,
 "nbformat_minor": 1
}
