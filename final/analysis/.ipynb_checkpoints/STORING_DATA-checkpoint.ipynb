{
 "cells": [
  {
   "cell_type": "markdown",
   "metadata": {},
   "source": [
    "# b.     STORING THE DATA"
   ]
  },
  {
   "cell_type": "markdown",
   "metadata": {},
   "source": [
    "#### ALL REQUIRED IMPORTS"
   ]
  },
  {
   "cell_type": "code",
   "execution_count": 1,
   "metadata": {
    "collapsed": false
   },
   "outputs": [],
   "source": [
    "import os\n",
    "import csv\n",
    "import requests\n",
    "from pprint import pprint\n",
    "import json\n",
    "import string\n",
    "import glob\n",
    "import shutil\n",
    "from datetime import datetime"
   ]
  },
  {
   "cell_type": "markdown",
   "metadata": {},
   "source": [
    "#### Getting system path and setting path required further"
   ]
  },
  {
   "cell_type": "code",
   "execution_count": 2,
   "metadata": {
    "collapsed": false
   },
   "outputs": [
    {
     "data": {
      "text/plain": [
       "'/Users/sonalichaudhari/Desktop/final/'"
      ]
     },
     "execution_count": 2,
     "metadata": {},
     "output_type": "execute_result"
    }
   ],
   "source": [
    "directory = os.path.dirname(os.getcwd())\n",
    "directory\n",
    "cur_path= directory+'/'\n",
    "cur_path"
   ]
  },
  {
   "cell_type": "markdown",
   "metadata": {},
   "source": [
    "#### Getting the API Key stored in environmental variable"
   ]
  },
  {
   "cell_type": "code",
   "execution_count": 5,
   "metadata": {
    "collapsed": false
   },
   "outputs": [
    {
     "name": "stdout",
     "output_type": "stream",
     "text": [
      "3945ef0104d65c9aaaf7611037e81618\n"
     ]
    }
   ],
   "source": [
    "key = os.environ.get('a')\n",
    "print(key)"
   ]
  },
  {
   "cell_type": "markdown",
   "metadata": {},
   "source": [
    "#### Getting all city ids stored during collection of city data from the IDS.csv"
   ]
  },
  {
   "cell_type": "code",
   "execution_count": 6,
   "metadata": {
    "collapsed": false
   },
   "outputs": [],
   "source": [
    "id_list = [] #List for storing city ids\n",
    "\n",
    "with open(cur_path+'extra/IDS.csv', newline='') as f:\n",
    "                reader = csv.reader(f)\n",
    "                next(reader, None)\n",
    "                try:\n",
    "                    for record in reader:\n",
    "                        c = record[0]\n",
    "                        #print(c)\n",
    "                        if c not in id_list:\n",
    "                            id_list.append(c)                       \n",
    "                except csv.Error as e:\n",
    "                    sys.exit('file {}, line {}: {}'.format(filename, reader.line_num, e))"
   ]
  },
  {
   "cell_type": "code",
   "execution_count": 7,
   "metadata": {
    "collapsed": false
   },
   "outputs": [
    {
     "name": "stdout",
     "output_type": "stream",
     "text": [
      "Number of UNIQUE City Ids : 1643\n"
     ]
    }
   ],
   "source": [
    "# Converting every city id from str to integer.\n",
    "\n",
    "id_list = [int(x) for x in id_list]\n",
    "\n",
    "# Total number Unique cities.\n",
    "print('Number of UNIQUE City Ids :',len(id_list))"
   ]
  },
  {
   "cell_type": "code",
   "execution_count": 28,
   "metadata": {
    "collapsed": false
   },
   "outputs": [],
   "source": [
    "#result[928]"
   ]
  },
  {
   "cell_type": "markdown",
   "metadata": {},
   "source": [
    "#### COLLECTING RESTAURANT DATA PER CITY ID"
   ]
  },
  {
   "cell_type": "code",
   "execution_count": 9,
   "metadata": {
    "collapsed": false
   },
   "outputs": [],
   "source": [
    "#result=[]  #For storing restaurant data\n",
    "\n",
    "header1={'user-key':key}\n",
    "\n",
    "for f in id_list[0:1000]:\n",
    "    try:\n",
    "        v = str(f)\n",
    "        url1 = 'https://developers.zomato.com/api/v2.1/search?entity_id='+v+'&entity_type=city&start=20'\n",
    "        result.append(requests.get(url1,headers=header1).json())\n",
    "    except ValueError:\n",
    "        continue"
   ]
  },
  {
   "cell_type": "code",
   "execution_count": null,
   "metadata": {
    "collapsed": true
   },
   "outputs": [],
   "source": [
    "#### CREATING A CSV TO MAINTAIN ALL CITY"
   ]
  },
  {
   "cell_type": "code",
   "execution_count": 97,
   "metadata": {
    "collapsed": false
   },
   "outputs": [],
   "source": [
    "with open('/Users/sonalichaudhari/Desktop/FINAL_Python/extra/ResultCounts.csv', 'a') as csvfile:    \n",
    "    fieldnames = ['ID', 'ResultCounts']  #Naming the title Row of the CSV\n",
    "    writer = csv.DictWriter(csvfile, fieldnames=fieldnames)\n",
    "    writer.writeheader()\n",
    "    \n",
    "    for j in range(len(result)-1):\n",
    "        cid = id_list[j]\n",
    "        counts = result[j]['results_found']\n",
    "        writer.writerow({'ID':cid,'ResultCounts':counts}) "
   ]
  },
  {
   "cell_type": "code",
   "execution_count": 5,
   "metadata": {
    "collapsed": false
   },
   "outputs": [],
   "source": [
    "#Getting Country name and teir respective IDS\n",
    "\n",
    "COUNTRY ={}\n",
    "with open(cur_path+'extra/IDS.csv', newline='') as f:\n",
    "                reader = csv.reader(f)\n",
    "                next(reader, None)\n",
    "                try:\n",
    "                    for record in reader:\n",
    "                        cid = int(record[2])\n",
    "                        cname = record[3]\n",
    "                        if cid not in COUNTRY:\n",
    "                            COUNTRY[cid] = cname                     \n",
    "                except csv.Error as e:\n",
    "                    sys.exit('file {}, line {}: {}'.format(filename, reader.line_num, e))\n",
    "#COUNTRY"
   ]
  },
  {
   "cell_type": "code",
   "execution_count": 11,
   "metadata": {
    "collapsed": false
   },
   "outputs": [],
   "source": [
    "# CREATING COUNTRY CSV\n",
    "with open('/Users/sonalichaudhari/Desktop/final/extra/COUNTRY.csv', 'a') as csvfile:    \n",
    "    fieldnames = ['ID', 'COUNTRY NAME']  #Naming the title Row of the CSV\n",
    "    writer = csv.DictWriter(csvfile, fieldnames=fieldnames)\n",
    "    writer.writeheader()\n",
    "    \n",
    "    for k,v in COUNTRY.items():\n",
    "        writer.writerow({'ID':k, 'COUNTRY NAME':v}) "
   ]
  },
  {
   "cell_type": "code",
   "execution_count": null,
   "metadata": {
    "collapsed": false
   },
   "outputs": [],
   "source": [
    "#Storing 20 restaurant per call details as separate restaurant detail item in final[]\n",
    "final=[]\n",
    "for i in range(len(result)):\n",
    "    for j in range(len(result[i]['restaurants'])):\n",
    "        if result[i]['restaurants'][j] not in final:\n",
    "            final.append(result[i]['restaurants'][j])\n",
    "            \n",
    "#len(final)"
   ]
  },
  {
   "cell_type": "code",
   "execution_count": 35,
   "metadata": {
    "collapsed": false
   },
   "outputs": [],
   "source": [
    "#APPENDING COUNTRY NAME TO EVERY RESTAURANT JSON FILE\n",
    "for i in range(len(final)):\n",
    "    countryid=final[i]['restaurant']['location']['country_id']\n",
    "    if(countryid in COUNTRY.keys()):\n",
    "        h=COUNTRY[countryid]\n",
    "        final[i]['restaurant']['location']['country_name']=h"
   ]
  },
  {
   "cell_type": "markdown",
   "metadata": {},
   "source": [
    "### LOADING THE JSON FILES IN TEMPORARY FOLDER"
   ]
  },
  {
   "cell_type": "code",
   "execution_count": 41,
   "metadata": {
    "collapsed": false
   },
   "outputs": [],
   "source": [
    "\n",
    "p = cur_path+'/TEMP/'\n",
    "for y in final:\n",
    "    rest = y['restaurant']['name'].replace('/',' ')+'_'+str(y['restaurant']['R']['res_id'])\n",
    "    with open(p + rest + str(datetime.now()) +'.json', 'w',encoding=\"utf-8\") as outfile:\n",
    "                        json.dump(y, outfile, ensure_ascii=False)"
   ]
  },
  {
   "cell_type": "markdown",
   "metadata": {},
   "source": [
    "### READING JSON FILE, FOLDER STRUCTURE CREATION,PROPER STORING"
   ]
  },
  {
   "cell_type": "code",
   "execution_count": 48,
   "metadata": {
    "collapsed": true
   },
   "outputs": [],
   "source": [
    "def read_files(file):      # Create a function to read files. \n",
    "    with open (file, encoding='utf-8', errors=\"ignore\") as f:   # Need to deal with unicode problem.\n",
    "        content = json.load(f)\n",
    "        hierarchy_list = {'country': content['restaurant']['location']['country_name'],\\\n",
    "                          'city': content['restaurant']['location']['city'],\\\n",
    "                          'name': content['restaurant']['name']}\n",
    "        return hierarchy_list"
   ]
  },
  {
   "cell_type": "code",
   "execution_count": 49,
   "metadata": {
    "collapsed": true
   },
   "outputs": [],
   "source": [
    "def file_distribution(dict, file):   # Generate hierarchy folder structure and dump json file\n",
    "    file_name = cur_path+'Data/'\\\n",
    "    +'/' + dict['country'] + '/' + dict['city'] + '/' + dict['name'] \\\n",
    "                + '.json'\n",
    "    os.makedirs(os.path.dirname(file_name), exist_ok=True)\n",
    "    shutil.move(file,file_name) #Moving the file from TEMP folder to required destination"
   ]
  },
  {
   "cell_type": "markdown",
   "metadata": {},
   "source": [
    " ### CALLING ABOVE FUNCTION TO STORE EACH JSON FILE "
   ]
  },
  {
   "cell_type": "code",
   "execution_count": 50,
   "metadata": {
    "collapsed": false
   },
   "outputs": [],
   "source": [
    "for json_file in glob.glob(cur_path+'TEMP/*.json\"):\n",
    "    file_distribution(read_files(json_file),json_file)"
   ]
  }
 ],
 "metadata": {
  "anaconda-cloud": {},
  "kernelspec": {
   "display_name": "Python [conda root]",
   "language": "python",
   "name": "conda-root-py"
  },
  "language_info": {
   "codemirror_mode": {
    "name": "ipython",
    "version": 3
   },
   "file_extension": ".py",
   "mimetype": "text/x-python",
   "name": "python",
   "nbconvert_exporter": "python",
   "pygments_lexer": "ipython3",
   "version": "3.5.2"
  }
 },
 "nbformat": 4,
 "nbformat_minor": 1
}
