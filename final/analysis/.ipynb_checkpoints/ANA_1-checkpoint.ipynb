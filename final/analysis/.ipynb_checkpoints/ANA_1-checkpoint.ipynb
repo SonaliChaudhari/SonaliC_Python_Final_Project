{
 "cells": [
  {
   "cell_type": "markdown",
   "metadata": {
    "collapsed": true
   },
   "source": [
    "# ANALYSIS 1 \n",
    "\n",
    "# TOP 5 Cuisines with the TOTAL NUMBER of RESTAURANTS offering them in every COUNTRY "
   ]
  },
  {
   "cell_type": "markdown",
   "metadata": {},
   "source": [
    "### ALL REQUIRED IMPORTS"
   ]
  },
  {
   "cell_type": "code",
   "execution_count": 10,
   "metadata": {
    "collapsed": true
   },
   "outputs": [],
   "source": [
    "import string\n",
    "import csv, sys\n",
    "from pandas import Series, DataFrame\n",
    "import pandas as pd\n",
    "import os\n",
    "import glob\n",
    "import json\n",
    "import nltk\n",
    "from pylab import *\n",
    "from pprint import pprint"
   ]
  },
  {
   "cell_type": "markdown",
   "metadata": {},
   "source": [
    "### Getting the current system path and defining the required path"
   ]
  },
  {
   "cell_type": "code",
   "execution_count": 52,
   "metadata": {
    "collapsed": false
   },
   "outputs": [
    {
     "data": {
      "text/plain": [
       "'/Users/sonalichaudhari/Desktop/final'"
      ]
     },
     "execution_count": 52,
     "metadata": {},
     "output_type": "execute_result"
    }
   ],
   "source": [
    "directory = os.path.dirname(os.getcwd()) \n",
    "path =  directory + '/data/'\n",
    "path\n",
    "directory"
   ]
  },
  {
   "cell_type": "markdown",
   "metadata": {},
   "source": [
    "### Retrieving all the Cuisines and the count of restaurants respective to each Country"
   ]
  },
  {
   "cell_type": "code",
   "execution_count": 16,
   "metadata": {
    "collapsed": false
   },
   "outputs": [],
   "source": [
    "C={}\n",
    "for subdir, dirs, files in os.walk(path):\n",
    "    for file in files:\n",
    "#fnmatch: Test whether the filename string matches the pattern of a json extension, returning True or False\n",
    "            if file.endswith('.json'): \n",
    "                reqpath = subdir+'/'+file\n",
    "                with open(reqpath) as json_file:\n",
    "                        d = json.load(json_file)\n",
    "                        c = d['restaurant']['location']['country_name']\n",
    "                        cu = d['restaurant']['cuisines'].split(',') #Use of nltk to split the string\n",
    "                        if c not in C:\n",
    "                            C[c]={}\n",
    "                            for x in cu:\n",
    "                                if x.strip() not in C[c]:\n",
    "                                    C[c][x.strip()]= 1 #Use of nltk to eliminate blank spaces\n",
    "                                else:\n",
    "                                    C[c][x.strip()] += 1\n",
    "                        else:\n",
    "                            for x in cu:\n",
    "                                if x.strip() not in C[c]:\n",
    "                                    C[c][x.strip()]= 1 #Use of nltk to eliminate blank spaces\n",
    "                                else:\n",
    "                                    C[c][x.strip()] += 1"
   ]
  },
  {
   "cell_type": "markdown",
   "metadata": {},
   "source": [
    "### Loading the above data in the CSV file"
   ]
  },
  {
   "cell_type": "code",
   "execution_count": 17,
   "metadata": {
    "collapsed": false
   },
   "outputs": [],
   "source": [
    "cur_path = directory='/final/analysis/ana_1/'\n",
    "header = ['COUNTRY','CUISINES','RESTAURANT COUNTS']\n",
    "with open('ANA_1.csv', 'w') as csvfile:\n",
    "        writer = csv.writer(csvfile)\n",
    "        writer.writerow(header)\n",
    "        for k,v in C.items():\n",
    "            z={}\n",
    "            z= dict(C[k])\n",
    "            for x in z:\n",
    "            #print(x,'-',z[x])\n",
    "                writer.writerow([k,x,z[x]]) "
   ]
  },
  {
   "cell_type": "markdown",
   "metadata": {},
   "source": [
    "### Converting csv data into Dataframe"
   ]
  },
  {
   "cell_type": "code",
   "execution_count": 18,
   "metadata": {
    "collapsed": false
   },
   "outputs": [
    {
     "data": {
      "text/html": [
       "<div>\n",
       "<table border=\"1\" class=\"dataframe\">\n",
       "  <thead>\n",
       "    <tr style=\"text-align: right;\">\n",
       "      <th></th>\n",
       "      <th>COUNTRY</th>\n",
       "      <th>CUISINES</th>\n",
       "      <th>RESTAURANT COUNTS</th>\n",
       "    </tr>\n",
       "  </thead>\n",
       "  <tbody>\n",
       "    <tr>\n",
       "      <th>0</th>\n",
       "      <td>Malaysia</td>\n",
       "      <td>Thai</td>\n",
       "      <td>3</td>\n",
       "    </tr>\n",
       "    <tr>\n",
       "      <th>1</th>\n",
       "      <td>Malaysia</td>\n",
       "      <td>Western</td>\n",
       "      <td>13</td>\n",
       "    </tr>\n",
       "    <tr>\n",
       "      <th>2</th>\n",
       "      <td>Malaysia</td>\n",
       "      <td>Japanese</td>\n",
       "      <td>6</td>\n",
       "    </tr>\n",
       "    <tr>\n",
       "      <th>3</th>\n",
       "      <td>Malaysia</td>\n",
       "      <td>Steamboat</td>\n",
       "      <td>1</td>\n",
       "    </tr>\n",
       "    <tr>\n",
       "      <th>4</th>\n",
       "      <td>Malaysia</td>\n",
       "      <td>Korean</td>\n",
       "      <td>5</td>\n",
       "    </tr>\n",
       "    <tr>\n",
       "      <th>5</th>\n",
       "      <td>Malaysia</td>\n",
       "      <td>American</td>\n",
       "      <td>1</td>\n",
       "    </tr>\n",
       "    <tr>\n",
       "      <th>6</th>\n",
       "      <td>Malaysia</td>\n",
       "      <td>Chinese</td>\n",
       "      <td>3</td>\n",
       "    </tr>\n",
       "  </tbody>\n",
       "</table>\n",
       "</div>"
      ],
      "text/plain": [
       "    COUNTRY   CUISINES  RESTAURANT COUNTS\n",
       "0  Malaysia       Thai                  3\n",
       "1  Malaysia    Western                 13\n",
       "2  Malaysia   Japanese                  6\n",
       "3  Malaysia  Steamboat                  1\n",
       "4  Malaysia     Korean                  5\n",
       "5  Malaysia   American                  1\n",
       "6  Malaysia    Chinese                  3"
      ]
     },
     "execution_count": 18,
     "metadata": {},
     "output_type": "execute_result"
    }
   ],
   "source": [
    "dataframe = pd.read_csv('/Users/sonalichaudhari/Desktop/final/analysis/ana_1/ANA_1.csv').reset_index(0,drop=True)\n",
    "dataframe.head(7)"
   ]
  },
  {
   "cell_type": "markdown",
   "metadata": {},
   "source": [
    "### Getting only the the TOP 5 prominent cuisines for each Country "
   ]
  },
  {
   "cell_type": "code",
   "execution_count": 45,
   "metadata": {
    "collapsed": false
   },
   "outputs": [
    {
     "data": {
      "text/html": [
       "<div>\n",
       "<table border=\"1\" class=\"dataframe\">\n",
       "  <thead>\n",
       "    <tr style=\"text-align: right;\">\n",
       "      <th></th>\n",
       "      <th></th>\n",
       "      <th>CUISINES</th>\n",
       "      <th>RESTAURANT COUNTS</th>\n",
       "    </tr>\n",
       "    <tr>\n",
       "      <th>COUNTRY</th>\n",
       "      <th></th>\n",
       "      <th></th>\n",
       "      <th></th>\n",
       "    </tr>\n",
       "  </thead>\n",
       "  <tbody>\n",
       "    <tr>\n",
       "      <th rowspan=\"5\" valign=\"top\">Australia</th>\n",
       "      <th>207</th>\n",
       "      <td>Modern Australian</td>\n",
       "      <td>694</td>\n",
       "    </tr>\n",
       "    <tr>\n",
       "      <th>240</th>\n",
       "      <td>Coffee and Tea</td>\n",
       "      <td>592</td>\n",
       "    </tr>\n",
       "    <tr>\n",
       "      <th>249</th>\n",
       "      <td>Cafe</td>\n",
       "      <td>447</td>\n",
       "    </tr>\n",
       "    <tr>\n",
       "      <th>276</th>\n",
       "      <td>Breakfast</td>\n",
       "      <td>302</td>\n",
       "    </tr>\n",
       "    <tr>\n",
       "      <th>259</th>\n",
       "      <td>Bar Food</td>\n",
       "      <td>270</td>\n",
       "    </tr>\n",
       "    <tr>\n",
       "      <th rowspan=\"5\" valign=\"top\">Brasil</th>\n",
       "      <th>297</th>\n",
       "      <td>Brazilian</td>\n",
       "      <td>74</td>\n",
       "    </tr>\n",
       "    <tr>\n",
       "      <th>306</th>\n",
       "      <td>Japanese</td>\n",
       "      <td>23</td>\n",
       "    </tr>\n",
       "    <tr>\n",
       "      <th>301</th>\n",
       "      <td>Bar Food</td>\n",
       "      <td>23</td>\n",
       "    </tr>\n",
       "    <tr>\n",
       "      <th>298</th>\n",
       "      <td>Italian</td>\n",
       "      <td>16</td>\n",
       "    </tr>\n",
       "    <tr>\n",
       "      <th>328</th>\n",
       "      <td>Fast Food</td>\n",
       "      <td>14</td>\n",
       "    </tr>\n",
       "  </tbody>\n",
       "</table>\n",
       "</div>"
      ],
      "text/plain": [
       "                        CUISINES  RESTAURANT COUNTS\n",
       "COUNTRY                                            \n",
       "Australia 207  Modern Australian                694\n",
       "          240     Coffee and Tea                592\n",
       "          249               Cafe                447\n",
       "          276          Breakfast                302\n",
       "          259           Bar Food                270\n",
       "Brasil    297          Brazilian                 74\n",
       "          306           Japanese                 23\n",
       "          301           Bar Food                 23\n",
       "          298            Italian                 16\n",
       "          328          Fast Food                 14"
      ]
     },
     "execution_count": 45,
     "metadata": {},
     "output_type": "execute_result"
    }
   ],
   "source": [
    "p =dataframe.groupby('COUNTRY').apply(lambda x: x.sort_values('RESTAURANT COUNTS', ascending=False))# Sort using lambda function\n",
    "s = p.groupby('COUNTRY').head(5)[['CUISINES','RESTAURANT COUNTS']]#.reset_index()\n",
    "#s[['COUNTRY','CUISINES','RESTAURANT COUNTS']]\n",
    "s.head(10)"
   ]
  },
  {
   "cell_type": "code",
   "execution_count": 46,
   "metadata": {
    "collapsed": false,
    "scrolled": true
   },
   "outputs": [
    {
     "data": {
      "text/html": [
       "<div>\n",
       "<table border=\"1\" class=\"dataframe\">\n",
       "  <thead>\n",
       "    <tr style=\"text-align: right;\">\n",
       "      <th></th>\n",
       "      <th>COUNTRY</th>\n",
       "      <th>CUISINES</th>\n",
       "      <th>RESTAURANT COUNTS</th>\n",
       "    </tr>\n",
       "  </thead>\n",
       "  <tbody>\n",
       "    <tr>\n",
       "      <th>0</th>\n",
       "      <td>Australia</td>\n",
       "      <td>Modern Australian</td>\n",
       "      <td>694</td>\n",
       "    </tr>\n",
       "    <tr>\n",
       "      <th>1</th>\n",
       "      <td>Australia</td>\n",
       "      <td>Coffee and Tea</td>\n",
       "      <td>592</td>\n",
       "    </tr>\n",
       "    <tr>\n",
       "      <th>2</th>\n",
       "      <td>Australia</td>\n",
       "      <td>Cafe</td>\n",
       "      <td>447</td>\n",
       "    </tr>\n",
       "    <tr>\n",
       "      <th>3</th>\n",
       "      <td>Australia</td>\n",
       "      <td>Breakfast</td>\n",
       "      <td>302</td>\n",
       "    </tr>\n",
       "    <tr>\n",
       "      <th>4</th>\n",
       "      <td>Australia</td>\n",
       "      <td>Bar Food</td>\n",
       "      <td>270</td>\n",
       "    </tr>\n",
       "    <tr>\n",
       "      <th>5</th>\n",
       "      <td>Brasil</td>\n",
       "      <td>Brazilian</td>\n",
       "      <td>74</td>\n",
       "    </tr>\n",
       "    <tr>\n",
       "      <th>6</th>\n",
       "      <td>Brasil</td>\n",
       "      <td>Japanese</td>\n",
       "      <td>23</td>\n",
       "    </tr>\n",
       "    <tr>\n",
       "      <th>7</th>\n",
       "      <td>Brasil</td>\n",
       "      <td>Bar Food</td>\n",
       "      <td>23</td>\n",
       "    </tr>\n",
       "    <tr>\n",
       "      <th>8</th>\n",
       "      <td>Brasil</td>\n",
       "      <td>Italian</td>\n",
       "      <td>16</td>\n",
       "    </tr>\n",
       "    <tr>\n",
       "      <th>9</th>\n",
       "      <td>Brasil</td>\n",
       "      <td>Fast Food</td>\n",
       "      <td>14</td>\n",
       "    </tr>\n",
       "  </tbody>\n",
       "</table>\n",
       "</div>"
      ],
      "text/plain": [
       "     COUNTRY           CUISINES  RESTAURANT COUNTS\n",
       "0  Australia  Modern Australian                694\n",
       "1  Australia     Coffee and Tea                592\n",
       "2  Australia               Cafe                447\n",
       "3  Australia          Breakfast                302\n",
       "4  Australia           Bar Food                270\n",
       "5     Brasil          Brazilian                 74\n",
       "6     Brasil           Japanese                 23\n",
       "7     Brasil           Bar Food                 23\n",
       "8     Brasil            Italian                 16\n",
       "9     Brasil          Fast Food                 14"
      ]
     },
     "execution_count": 46,
     "metadata": {},
     "output_type": "execute_result"
    }
   ],
   "source": [
    "g = p.groupby('COUNTRY').head(5)[['CUISINES','RESTAURANT COUNTS']].reset_index()[['COUNTRY','CUISINES','RESTAURANT COUNTS']]\n",
    "g.head(10)"
   ]
  },
  {
   "cell_type": "code",
   "execution_count": 21,
   "metadata": {
    "collapsed": true
   },
   "outputs": [],
   "source": [
    "#Storing the top 5 cusines as per resturant counts for all 24 Counries in a csv.\n",
    "\n",
    "with open('ANA_1_PART2.csv', 'w') as csvfile:\n",
    "    g.to_csv(csvfile, header=True)"
   ]
  },
  {
   "cell_type": "markdown",
   "metadata": {
    "collapsed": true
   },
   "source": [
    "### FILTERING FOR UNITED STATES"
   ]
  },
  {
   "cell_type": "code",
   "execution_count": 41,
   "metadata": {
    "collapsed": false
   },
   "outputs": [
    {
     "data": {
      "text/html": [
       "<div>\n",
       "<table border=\"1\" class=\"dataframe\">\n",
       "  <thead>\n",
       "    <tr style=\"text-align: right;\">\n",
       "      <th></th>\n",
       "      <th>COUNTRY</th>\n",
       "      <th>CUISINES</th>\n",
       "      <th>RESTAURANT COUNTS</th>\n",
       "      <th>TOTAL</th>\n",
       "    </tr>\n",
       "  </thead>\n",
       "  <tbody>\n",
       "    <tr>\n",
       "      <th>115</th>\n",
       "      <td>United States</td>\n",
       "      <td>American</td>\n",
       "      <td>7274</td>\n",
       "      <td>19096.0</td>\n",
       "    </tr>\n",
       "    <tr>\n",
       "      <th>116</th>\n",
       "      <td>United States</td>\n",
       "      <td>Pizza</td>\n",
       "      <td>3733</td>\n",
       "      <td>19096.0</td>\n",
       "    </tr>\n",
       "    <tr>\n",
       "      <th>117</th>\n",
       "      <td>United States</td>\n",
       "      <td>Burger</td>\n",
       "      <td>2792</td>\n",
       "      <td>19096.0</td>\n",
       "    </tr>\n",
       "    <tr>\n",
       "      <th>118</th>\n",
       "      <td>United States</td>\n",
       "      <td>Sandwich</td>\n",
       "      <td>2716</td>\n",
       "      <td>19096.0</td>\n",
       "    </tr>\n",
       "    <tr>\n",
       "      <th>119</th>\n",
       "      <td>United States</td>\n",
       "      <td>Seafood</td>\n",
       "      <td>2581</td>\n",
       "      <td>19096.0</td>\n",
       "    </tr>\n",
       "  </tbody>\n",
       "</table>\n",
       "</div>"
      ],
      "text/plain": [
       "           COUNTRY  CUISINES  RESTAURANT COUNTS    TOTAL\n",
       "115  United States  American               7274  19096.0\n",
       "116  United States     Pizza               3733  19096.0\n",
       "117  United States    Burger               2792  19096.0\n",
       "118  United States  Sandwich               2716  19096.0\n",
       "119  United States   Seafood               2581  19096.0"
      ]
     },
     "execution_count": 41,
     "metadata": {},
     "output_type": "execute_result"
    }
   ],
   "source": [
    "z['TOTAL'] = g.groupby(['COUNTRY'])['RESTAURANT COUNTS'].transform('sum')[g['COUNTRY']=='United States']\n",
    "z"
   ]
  },
  {
   "cell_type": "code",
   "execution_count": 44,
   "metadata": {
    "collapsed": false
   },
   "outputs": [
    {
     "name": "stderr",
     "output_type": "stream",
     "text": [
      "/Users/sonalichaudhari/anaconda/lib/python3.5/site-packages/ipykernel/__main__.py:2: SettingWithCopyWarning: \n",
      "A value is trying to be set on a copy of a slice from a DataFrame.\n",
      "Try using .loc[row_indexer,col_indexer] = value instead\n",
      "\n",
      "See the caveats in the documentation: http://pandas.pydata.org/pandas-docs/stable/indexing.html#indexing-view-versus-copy\n",
      "  from ipykernel import kernelapp as app\n"
     ]
    },
    {
     "data": {
      "text/html": [
       "<div>\n",
       "<table border=\"1\" class=\"dataframe\">\n",
       "  <thead>\n",
       "    <tr style=\"text-align: right;\">\n",
       "      <th></th>\n",
       "      <th>COUNTRY</th>\n",
       "      <th>CUISINES</th>\n",
       "      <th>RESTAURANT COUNTS</th>\n",
       "      <th>TOTAL</th>\n",
       "      <th>Percentage</th>\n",
       "    </tr>\n",
       "  </thead>\n",
       "  <tbody>\n",
       "    <tr>\n",
       "      <th>115</th>\n",
       "      <td>United States</td>\n",
       "      <td>American</td>\n",
       "      <td>7274</td>\n",
       "      <td>19096.0</td>\n",
       "      <td>38.091747</td>\n",
       "    </tr>\n",
       "    <tr>\n",
       "      <th>116</th>\n",
       "      <td>United States</td>\n",
       "      <td>Pizza</td>\n",
       "      <td>3733</td>\n",
       "      <td>19096.0</td>\n",
       "      <td>19.548597</td>\n",
       "    </tr>\n",
       "    <tr>\n",
       "      <th>117</th>\n",
       "      <td>United States</td>\n",
       "      <td>Burger</td>\n",
       "      <td>2792</td>\n",
       "      <td>19096.0</td>\n",
       "      <td>14.620863</td>\n",
       "    </tr>\n",
       "    <tr>\n",
       "      <th>118</th>\n",
       "      <td>United States</td>\n",
       "      <td>Sandwich</td>\n",
       "      <td>2716</td>\n",
       "      <td>19096.0</td>\n",
       "      <td>14.222874</td>\n",
       "    </tr>\n",
       "    <tr>\n",
       "      <th>119</th>\n",
       "      <td>United States</td>\n",
       "      <td>Seafood</td>\n",
       "      <td>2581</td>\n",
       "      <td>19096.0</td>\n",
       "      <td>13.515920</td>\n",
       "    </tr>\n",
       "  </tbody>\n",
       "</table>\n",
       "</div>"
      ],
      "text/plain": [
       "           COUNTRY  CUISINES  RESTAURANT COUNTS    TOTAL  Percentage\n",
       "115  United States  American               7274  19096.0   38.091747\n",
       "116  United States     Pizza               3733  19096.0   19.548597\n",
       "117  United States    Burger               2792  19096.0   14.620863\n",
       "118  United States  Sandwich               2716  19096.0   14.222874\n",
       "119  United States   Seafood               2581  19096.0   13.515920"
      ]
     },
     "execution_count": 44,
     "metadata": {},
     "output_type": "execute_result"
    }
   ],
   "source": [
    "z=g.loc[g['COUNTRY'] == \"United States\"]\n",
    "z['Percentage'] = (z['RESTAURANT COUNTS']/z['TOTAL'])*100\n",
    "z"
   ]
  },
  {
   "cell_type": "markdown",
   "metadata": {},
   "source": [
    "### PLOTTING A PIE CHART FOR UNITED STATED data:"
   ]
  },
  {
   "cell_type": "code",
   "execution_count": 64,
   "metadata": {
    "collapsed": false
   },
   "outputs": [
    {
     "data": {
      "image/png": "[encoded data removed]",
      "text/plain": [
       "<matplotlib.figure.Figure at 0x11c7b8908>"
      ]
     },
     "metadata": {},
     "output_type": "display_data"
    }
   ],
   "source": [
    "# PLOTTING A PIE CHART FOR UNITED STATED data:\n",
    "\n",
    "# make a square figure and axes\n",
    "p = figure(1, figsize=(6,6))\n",
    "ax = axes([0.1, 0.1, 0.8, 0.8])\n",
    "\n",
    "# The slices will be ordered and plotted counter-clockwise.\n",
    "labels = 'America', 'Pizza', 'Burger', 'Sandwich','Seafood'\n",
    "fracs = [38.091747,19.548597, 14.620863, 14.222874,13.515920]\n",
    "explode=(0.05,0,0,0,0)\n",
    "\n",
    "pie(fracs, explode=explode, labels=labels,\n",
    "                autopct='%1.1f%%', shadow=True, startangle=90)\n",
    "                # The default startangle is 0, which would start\n",
    "                # the Frogs slice on the x-axis.  With startangle=90,\n",
    "                # everything is rotated counter-clockwise by 90 degrees,\n",
    "                # so the plotting starts on the positive y-axis.\n",
    "\n",
    "title('TOP 5 Cuisine disribution for UNITED STATES', bbox={'facecolor':'0.8', 'pad':5})\n",
    "matplotlib.pyplot.show()"
   ]
  },
  {
   "cell_type": "code",
   "execution_count": 65,
   "metadata": {
    "collapsed": false
   },
   "outputs": [],
   "source": [
    "p.savefig ( directory+\"/analysis/ana_1/ana_1.png\" )"
   ]
  }
 ],
 "metadata": {
  "anaconda-cloud": {},
  "kernelspec": {
   "display_name": "Python [conda root]",
   "language": "python",
   "name": "conda-root-py"
  },
  "language_info": {
   "codemirror_mode": {
    "name": "ipython",
    "version": 3
   },
   "file_extension": ".py",
   "mimetype": "text/x-python",
   "name": "python",
   "nbconvert_exporter": "python",
   "pygments_lexer": "ipython3",
   "version": "3.5.2"
  }
 },
 "nbformat": 4,
 "nbformat_minor": 1
}
