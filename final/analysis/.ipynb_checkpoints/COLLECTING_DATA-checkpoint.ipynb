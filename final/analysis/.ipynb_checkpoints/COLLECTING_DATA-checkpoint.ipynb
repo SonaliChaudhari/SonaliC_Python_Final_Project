{
 "cells": [
  {
   "cell_type": "markdown",
   "metadata": {},
   "source": [
    "##  a.       COLLECTING THE DATA"
   ]
  },
  {
   "cell_type": "markdown",
   "metadata": {},
   "source": [
    "###  ALL REQUIRED IMPORTS"
   ]
  },
  {
   "cell_type": "code",
   "execution_count": 1,
   "metadata": {
    "collapsed": true
   },
   "outputs": [],
   "source": [
    "import os\n",
    "import csv\n",
    "import requests\n",
    "from pprint import pprint\n",
    "import json\n",
    "from datetime import datetime\n",
    "import string\n",
    "import glob"
   ]
  },
  {
   "cell_type": "markdown",
   "metadata": {},
   "source": [
    "#### Getting system path and setting path required further"
   ]
  },
  {
   "cell_type": "code",
   "execution_count": 2,
   "metadata": {
    "collapsed": false
   },
   "outputs": [
    {
     "data": {
      "text/plain": [
       "'/Users/sonalichaudhari/Desktop/final/'"
      ]
     },
     "execution_count": 2,
     "metadata": {},
     "output_type": "execute_result"
    }
   ],
   "source": [
    "directory = os.path.dirname(os.getcwd())\n",
    "directory\n",
    "cur_path= directory+'/'\n",
    "cur_path"
   ]
  },
  {
   "cell_type": "markdown",
   "metadata": {},
   "source": [
    "#### Getting the API Key stored in environmental variable"
   ]
  },
  {
   "cell_type": "code",
   "execution_count": 3,
   "metadata": {
    "collapsed": false
   },
   "outputs": [
    {
     "name": "stdout",
     "output_type": "stream",
     "text": [
      "3945ef0104d65c9aaaf7611037e81618\n"
     ]
    }
   ],
   "source": [
    "key = os.environ.get('a')\n",
    "print(key)"
   ]
  },
  {
   "cell_type": "markdown",
   "metadata": {},
   "source": [
    "#### DEFINING THE HEADER"
   ]
  },
  {
   "cell_type": "code",
   "execution_count": 4,
   "metadata": {
    "collapsed": false
   },
   "outputs": [
    {
     "data": {
      "text/plain": [
       "{'user-key': '3945ef0104d65c9aaaf7611037e81618'}"
      ]
     },
     "execution_count": 4,
     "metadata": {},
     "output_type": "execute_result"
    }
   ],
   "source": [
    "header1={'user-key':key}\n",
    "header1"
   ]
  },
  {
   "cell_type": "markdown",
   "metadata": {},
   "source": [
    "#### STORING ALL CITY NAME FROM CITIES.CSV INTO A LIST"
   ]
  },
  {
   "cell_type": "code",
   "execution_count": 5,
   "metadata": {
    "collapsed": false
   },
   "outputs": [
    {
     "data": {
      "text/plain": [
       "533"
      ]
     },
     "execution_count": 5,
     "metadata": {},
     "output_type": "execute_result"
    }
   ],
   "source": [
    "CITY_NAME=[] #  Declaring an empty list\n",
    "\n",
    "with open(cur_path+'extra/Cities.csv', newline='') as f:# Opening the csv\n",
    "    reader = csv.reader(f)\n",
    "    next(reader, None)\n",
    "    try:\n",
    "        for record in reader:\n",
    "            c = record[1]\n",
    "            if c not in CITY_NAME: # Checking for redundant data\n",
    "                CITY_NAME.append(c)                  \n",
    "    except csv.Error as e:\n",
    "            sys.exit('file {}, line {}: {}'.format(filename, reader.line_num, e))\n",
    "\n",
    "len(CITY_NAME)"
   ]
  },
  {
   "cell_type": "markdown",
   "metadata": {},
   "source": [
    "#### REQUESTIONG THE CITY DATA USING requests.get()"
   ]
  },
  {
   "cell_type": "code",
   "execution_count": 15,
   "metadata": {
    "collapsed": false
   },
   "outputs": [],
   "source": [
    "#CITY=[] # List to store the data\n",
    "\n",
    "for i in CITY_NAME[]:\n",
    "    try: \n",
    "        url = 'https://developers.zomato.com/api/v2.1/cities?q='+i+'&count=200'\n",
    "        CITY.append(requests.get(url,headers=header1).json())\n",
    "    except ValueError:\n",
    "        continue"
   ]
  },
  {
   "cell_type": "code",
   "execution_count": 77,
   "metadata": {
    "collapsed": false
   },
   "outputs": [],
   "source": [
    "# Creating a CSV file named 'IDS' in append mode as csvfile\n",
    "\n",
    "with open('/Users/sonalichaudhari/Desktop/FINAL_Python/extra/IDS.csv', 'a') as csvfile:    \n",
    "    fieldnames = ['ID', 'CITY','COUNTRY ID','COUNTRY']  #Naming the title Row of the CSV\n",
    "    writer = csv.DictWriter(csvfile, fieldnames=fieldnames)\n",
    "    writer.writeheader()\n",
    "    for b in range(len(CITY)-1):\n",
    "        for x in CITY[b]['location_suggestions']:\n",
    "            city_id  =     x['id']\n",
    "            city =  (x['name'])\n",
    "            c_id =  x['country_id']\n",
    "            c_name = x['country_name']\n",
    "            writer.writerow({'ID':city_id, 'CITY':city,'COUNTRY ID':c_id,'COUNTRY':c_name}) "
   ]
  }
 ],
 "metadata": {
  "anaconda-cloud": {},
  "kernelspec": {
   "display_name": "Python [conda root]",
   "language": "python",
   "name": "conda-root-py"
  },
  "language_info": {
   "codemirror_mode": {
    "name": "ipython",
    "version": 3
   },
   "file_extension": ".py",
   "mimetype": "text/x-python",
   "name": "python",
   "nbconvert_exporter": "python",
   "pygments_lexer": "ipython3",
   "version": "3.5.2"
  }
 },
 "nbformat": 4,
 "nbformat_minor": 1
}
