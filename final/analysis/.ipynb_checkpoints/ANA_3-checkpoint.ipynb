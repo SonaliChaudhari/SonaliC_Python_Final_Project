{
 "cells": [
  {
   "cell_type": "markdown",
   "metadata": {},
   "source": [
    "# ANALYSIS 3\n",
    "\n",
    "# FINDING THE NEAREST 10 RESTAURANTS TO A GIVEN ADDRESS"
   ]
  },
  {
   "cell_type": "markdown",
   "metadata": {},
   "source": [
    "### ALL REQUIRED IMPORTS"
   ]
  },
  {
   "cell_type": "code",
   "execution_count": 4,
   "metadata": {
    "collapsed": true
   },
   "outputs": [],
   "source": [
    "import string\n",
    "import csv, sys\n",
    "from pandas import Series, DataFrame\n",
    "import pandas as pd\n",
    "import os\n",
    "import glob\n",
    "from os.path import basename\n",
    "import fnmatch\n",
    "import json\n",
    "import nltk\n",
    "from pprint import pprint\n",
    "from geopy.geocoders import Nominatim\n",
    "from geopy.distance import vincenty"
   ]
  },
  {
   "cell_type": "markdown",
   "metadata": {},
   "source": [
    "#### GETTING THE SYSTEM PATH"
   ]
  },
  {
   "cell_type": "code",
   "execution_count": 84,
   "metadata": {
    "collapsed": false
   },
   "outputs": [
    {
     "data": {
      "text/plain": [
       "'/Users/sonalichaudhari/Desktop/final'"
      ]
     },
     "execution_count": 84,
     "metadata": {},
     "output_type": "execute_result"
    }
   ],
   "source": [
    "directory = os.path.dirname(os.getcwd()) \n",
    "path = directory+'/data/'\n",
    "path\n",
    "directory"
   ]
  },
  {
   "cell_type": "markdown",
   "metadata": {},
   "source": [
    "#### TAKING USER INPUT FOR ADDRESS  "
   ]
  },
  {
   "cell_type": "code",
   "execution_count": 21,
   "metadata": {
    "collapsed": false
   },
   "outputs": [
    {
     "name": "stdout",
     "output_type": "stream",
     "text": [
      "STREET NAME AND CITY NAME COUNTRY MANDATORY\n",
      "Enter Address: smith street boston\n",
      "smith street boston\n"
     ]
    }
   ],
   "source": [
    "print('STREET NAME AND CITY NAME COUNTRY MANDATORY')\n",
    "address1 = input(\"Enter Address: \")\n",
    "print (address1) "
   ]
  },
  {
   "cell_type": "markdown",
   "metadata": {},
   "source": [
    "#### Retrieving the complete address with latitude and longitude"
   ]
  },
  {
   "cell_type": "code",
   "execution_count": 22,
   "metadata": {
    "collapsed": false
   },
   "outputs": [
    {
     "name": "stdout",
     "output_type": "stream",
     "text": [
      "Smith Street, Roxbury Crossing, Fenway, Boston, Suffolk County, Massachusetts, 02120, United States of America\n",
      "(42.3349341, -71.1023921)\n"
     ]
    }
   ],
   "source": [
    "# Getting the complete address \n",
    "\n",
    "geolocator = Nominatim()\n",
    "location = geolocator.geocode(address1) #Passing the address which stores user input\n",
    "print(location.address)\n",
    "print((location.latitude, location.longitude))"
   ]
  },
  {
   "cell_type": "code",
   "execution_count": 24,
   "metadata": {
    "collapsed": true
   },
   "outputs": [],
   "source": [
    "# Storing the source latitude and longitude \n",
    "\n",
    "s_lat = location.latitude\n",
    "s_lon = location.longitude"
   ]
  },
  {
   "cell_type": "markdown",
   "metadata": {},
   "source": [
    "####  STORING OF INTERMEDIATE DATA"
   ]
  },
  {
   "cell_type": "code",
   "execution_count": 67,
   "metadata": {
    "collapsed": false
   },
   "outputs": [],
   "source": [
    "DISTANCE={} # to store the  restaurant ids and their distances whose distance is less than 25 miles\n",
    "temp = [] # to store th data about all the restaurants whose distance is less than 25 miles\n",
    "for subdir, dirs, files in os.walk(path):\n",
    "        for file in files:           \n",
    "            if file.endswith('.json'): # Retrieving only the JSON files\n",
    "                reqpath = subdir+'/'+file # Path of evry JSON file is stored in reqpath\n",
    "                \n",
    "                with open(reqpath) as json_file:\n",
    "                    g = json.load(json_file)\n",
    "                    des_lat = g['restaurant']['location']['latitude']  # Destination latitude value\n",
    "                    des_log = g['restaurant']['location']['longitude'] # Destination longitude value\n",
    "                    source =(s_lat,s_lon)\n",
    "                    destination =(des_lat,des_log)\n",
    "# Finding the distance between the source and destinaltion \n",
    "                    d = vincenty(source, destination).miles\n",
    "                    if d<=25:    # Filtering for distance less than 25(miles)\n",
    "                        temp.append(g)\n",
    "                        dd= round(d,4)\n",
    "                        DISTANCE[g['restaurant']['R']['res_id']]= dd\n",
    "                "
   ]
  },
  {
   "cell_type": "code",
   "execution_count": 68,
   "metadata": {
    "collapsed": false
   },
   "outputs": [],
   "source": [
    "# Sorting in ascending order of distance and getting the top 10\n",
    "S = sorted(DISTANCE.items(), key=lambda x: x[1], reverse=False)[:10]"
   ]
  },
  {
   "cell_type": "code",
   "execution_count": 92,
   "metadata": {
    "collapsed": false
   },
   "outputs": [],
   "source": [
    "# Storing the restaurant id of top 10 obtained above in RES_ID list\n",
    "RES_ID=[]\n",
    "for k,v in S:\n",
    "    RES_ID.append(k)\n",
    "#RES_ID"
   ]
  },
  {
   "cell_type": "code",
   "execution_count": 76,
   "metadata": {
    "collapsed": false
   },
   "outputs": [],
   "source": [
    "# Storing the data of restaurant of top 10 obtained above in RES_ID list\n",
    "RES=[]\n",
    "\n",
    "for e in temp:\n",
    "    if (e['restaurant']['R']['res_id'] in RES_ID) == True:\n",
    "        RES.append(e)\n",
    "        "
   ]
  },
  {
   "cell_type": "markdown",
   "metadata": {},
   "source": [
    "#### STORING THE TEMP LIST DATA IN A CSV"
   ]
  },
  {
   "cell_type": "code",
   "execution_count": 109,
   "metadata": {
    "collapsed": false
   },
   "outputs": [],
   "source": [
    "with open(directory+'/analysis/ana_3/ANA_3_Part1.csv', 'w') as csvfile:    # Creating CSV\n",
    "    fieldnames = ['RES_ID', 'Name','CUISINES','USER RATING','VOTES',\\\n",
    "                 'RATING TEXT','ADDRESS','AVG COST for TWO','DISTANCE']#Naming the title Row of the CSV\n",
    "    writer = csv.DictWriter(csvfile, fieldnames=fieldnames)\n",
    "    writer.writeheader()\n",
    "    for j in range(len(RES)-1):\n",
    "        for k,v in S: # if restaurant id is present in the list of top 10 nearest restaurants list\n",
    "            if k == RES[j]['restaurant']['R']['res_id']:\n",
    "                r = RES[j]['restaurant']['R']['res_id']\n",
    "                n = RES[j]['restaurant']['name']\n",
    "                cu= RES[j]['restaurant']['cuisines']\n",
    "                u = RES[j]['restaurant']['user_rating']['aggregate_rating']\n",
    "                vo = RES[j]['restaurant']['user_rating']['votes']\n",
    "                rt= RES[j]['restaurant']['user_rating']['rating_text']\n",
    "                add= RES[j]['restaurant']['location']['address']\n",
    "                avg=str(RES[j]['restaurant']['average_cost_for_two'])+temp[j]['restaurant']['currency']\n",
    "                dis = str(v)+' miles'\n",
    "                # appending the rows to the csv\n",
    "                writer.writerow({'RES_ID':r, 'Name':n,'CUISINES':cu,'USER RATING':u,\\\n",
    "                                 'VOTES':vo,'RATING TEXT':rt,'ADDRESS':add,'AVG COST for TWO':avg,'DISTANCE':dis}) "
   ]
  },
  {
   "cell_type": "markdown",
   "metadata": {},
   "source": [
    "#### CONVERTING THE CSV INTO DATAFRAME"
   ]
  },
  {
   "cell_type": "code",
   "execution_count": 111,
   "metadata": {
    "collapsed": false
   },
   "outputs": [
    {
     "data": {
      "text/html": [
       "<div>\n",
       "<table border=\"1\" class=\"dataframe\">\n",
       "  <thead>\n",
       "    <tr style=\"text-align: right;\">\n",
       "      <th></th>\n",
       "      <th>RES_ID</th>\n",
       "      <th>Name</th>\n",
       "      <th>CUISINES</th>\n",
       "      <th>USER RATING</th>\n",
       "      <th>VOTES</th>\n",
       "      <th>RATING TEXT</th>\n",
       "      <th>ADDRESS</th>\n",
       "      <th>AVG COST for TWO</th>\n",
       "      <th>DISTANCE</th>\n",
       "    </tr>\n",
       "  </thead>\n",
       "  <tbody>\n",
       "    <tr>\n",
       "      <th>0</th>\n",
       "      <td>16794052</td>\n",
       "      <td>Abe &amp; Louie's</td>\n",
       "      <td>Steak, American</td>\n",
       "      <td>4.3</td>\n",
       "      <td>680</td>\n",
       "      <td>Very Good</td>\n",
       "      <td>793 Boylston Street, Boston, MA 02116</td>\n",
       "      <td>70$</td>\n",
       "      <td>1.4441 miles</td>\n",
       "    </tr>\n",
       "    <tr>\n",
       "      <th>1</th>\n",
       "      <td>16794268</td>\n",
       "      <td>Atlantic Fish Co.</td>\n",
       "      <td>Seafood</td>\n",
       "      <td>4.5</td>\n",
       "      <td>670</td>\n",
       "      <td>Excellent</td>\n",
       "      <td>761 Boylston Street, Boston, MA 02116</td>\n",
       "      <td>40$</td>\n",
       "      <td>1.4658 miles</td>\n",
       "    </tr>\n",
       "    <tr>\n",
       "      <th>2</th>\n",
       "      <td>16795720</td>\n",
       "      <td>Eastern Standard</td>\n",
       "      <td>American, Seafood</td>\n",
       "      <td>4.5</td>\n",
       "      <td>622</td>\n",
       "      <td>Excellent</td>\n",
       "      <td>528 Commonwealth Avenue, Boston, MA 02215</td>\n",
       "      <td>70$</td>\n",
       "      <td>1.0015 miles</td>\n",
       "    </tr>\n",
       "    <tr>\n",
       "      <th>3</th>\n",
       "      <td>16795900</td>\n",
       "      <td>Flour Bakery + Cafe</td>\n",
       "      <td>Bakery, Cafe</td>\n",
       "      <td>4.7</td>\n",
       "      <td>854</td>\n",
       "      <td>Excellent</td>\n",
       "      <td>1595 Washington Street, Boston, MA 02118</td>\n",
       "      <td>10$</td>\n",
       "      <td>1.4458 miles</td>\n",
       "    </tr>\n",
       "    <tr>\n",
       "      <th>4</th>\n",
       "      <td>16795961</td>\n",
       "      <td>Fugakyu</td>\n",
       "      <td>Asian, Japanese, Sushi</td>\n",
       "      <td>4.3</td>\n",
       "      <td>968</td>\n",
       "      <td>Very Good</td>\n",
       "      <td>1280 Beacon St, Brookline, MA 02446</td>\n",
       "      <td>150$</td>\n",
       "      <td>1.0534 miles</td>\n",
       "    </tr>\n",
       "  </tbody>\n",
       "</table>\n",
       "</div>"
      ],
      "text/plain": [
       "     RES_ID                 Name                CUISINES  USER RATING  VOTES  \\\n",
       "0  16794052        Abe & Louie's         Steak, American          4.3    680   \n",
       "1  16794268    Atlantic Fish Co.                 Seafood          4.5    670   \n",
       "2  16795720     Eastern Standard       American, Seafood          4.5    622   \n",
       "3  16795900  Flour Bakery + Cafe            Bakery, Cafe          4.7    854   \n",
       "4  16795961              Fugakyu  Asian, Japanese, Sushi          4.3    968   \n",
       "\n",
       "  RATING TEXT                                    ADDRESS AVG COST for TWO  \\\n",
       "0   Very Good      793 Boylston Street, Boston, MA 02116              70$   \n",
       "1   Excellent      761 Boylston Street, Boston, MA 02116              40$   \n",
       "2   Excellent  528 Commonwealth Avenue, Boston, MA 02215              70$   \n",
       "3   Excellent   1595 Washington Street, Boston, MA 02118              10$   \n",
       "4   Very Good        1280 Beacon St, Brookline, MA 02446             150$   \n",
       "\n",
       "       DISTANCE  \n",
       "0  1.4441 miles  \n",
       "1  1.4658 miles  \n",
       "2  1.0015 miles  \n",
       "3  1.4458 miles  \n",
       "4  1.0534 miles  "
      ]
     },
     "execution_count": 111,
     "metadata": {},
     "output_type": "execute_result"
    }
   ],
   "source": [
    "t = pd.read_csv(directory+'/analysis/ana_3/ANA_3_Part1.csv').reset_index(0,drop=True)\n",
    "t.head()"
   ]
  },
  {
   "cell_type": "code",
   "execution_count": null,
   "metadata": {
    "collapsed": true
   },
   "outputs": [],
   "source": [
    "place_data = {}\n",
    "for place in place_frame['stop_name']:\n",
    "    r = requests.get('http://nominatim.openstreetmap.org/?q='+place+'&format=json')\n",
    "    place_data[place] = r.json()"
   ]
  }
 ],
 "metadata": {
  "anaconda-cloud": {},
  "kernelspec": {
   "display_name": "Python [conda root]",
   "language": "python",
   "name": "conda-root-py"
  },
  "language_info": {
   "codemirror_mode": {
    "name": "ipython",
    "version": 3
   },
   "file_extension": ".py",
   "mimetype": "text/x-python",
   "name": "python",
   "nbconvert_exporter": "python",
   "pygments_lexer": "ipython3",
   "version": "3.5.2"
  }
 },
 "nbformat": 4,
 "nbformat_minor": 1
}
