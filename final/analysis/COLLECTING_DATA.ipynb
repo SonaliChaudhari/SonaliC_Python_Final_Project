{
 "cells": [
  {
   "cell_type": "markdown",
   "metadata": {},
   "source": [
    "##  a.       COLLECTING THE DATA"
   ]
  },
  {
   "cell_type": "code",
   "execution_count": 1,
   "metadata": {
    "collapsed": true
   },
   "outputs": [],
   "source": [
    "# ALL REQUIRED IMPORTS\n",
    "import os\n",
    "import csv\n",
    "import requests\n",
    "from pprint import pprint\n",
    "import json\n",
    "from datetime import datetime\n",
    "import string\n",
    "import glob"
   ]
  },
  {
   "cell_type": "code",
   "execution_count": 2,
   "metadata": {
    "collapsed": false
   },
   "outputs": [
    {
     "data": {
      "text/plain": [
       "'/Users/sonalichaudhari/Desktop/FINAL_Python/'"
      ]
     },
     "execution_count": 2,
     "metadata": {},
     "output_type": "execute_result"
    }
   ],
   "source": [
    "directory = os.path.dirname(os.getcwd())\n",
    "directory\n",
    "cur_path= directory+'/'\n",
    "cur_path"
   ]
  },
  {
   "cell_type": "code",
   "execution_count": 4,
   "metadata": {
    "collapsed": false
   },
   "outputs": [
    {
     "name": "stdout",
     "output_type": "stream",
     "text": [
      "6a4e6e0aee0243d21f2edbb088d70b3a\n"
     ]
    }
   ],
   "source": [
    "key = os.environ.get('ZOM_API1')\n",
    "print(key)"
   ]
  },
  {
   "cell_type": "code",
   "execution_count": 5,
   "metadata": {
    "collapsed": false
   },
   "outputs": [
    {
     "data": {
      "text/plain": [
       "{'user-key': '6a4e6e0aee0243d21f2edbb088d70b3a'}"
      ]
     },
     "execution_count": 5,
     "metadata": {},
     "output_type": "execute_result"
    }
   ],
   "source": [
    "header1={'user-key':key}\n",
    "header1"
   ]
  },
  {
   "cell_type": "code",
   "execution_count": 6,
   "metadata": {
    "collapsed": false
   },
   "outputs": [
    {
     "data": {
      "text/plain": [
       "533"
      ]
     },
     "execution_count": 6,
     "metadata": {},
     "output_type": "execute_result"
    }
   ],
   "source": [
    "CITY_NAME=[]\n",
    "\n",
    "with open(cur_path+'extra/Cities.csv', newline='') as f:\n",
    "    reader = csv.reader(f)\n",
    "    next(reader, None)\n",
    "    try:\n",
    "        for record in reader:\n",
    "            c = record[1]\n",
    "            if c not in CITY_NAME:\n",
    "                CITY_NAME.append(c)                  \n",
    "    except csv.Error as e:\n",
    "            sys.exit('file {}, line {}: {}'.format(filename, reader.line_num, e))\n",
    "\n",
    "len(CITY_NAME)"
   ]
  },
  {
   "cell_type": "code",
   "execution_count": 7,
   "metadata": {
    "collapsed": false
   },
   "outputs": [],
   "source": [
    "CITY=[]\n",
    "\n",
    "for i in CITY_NAME:\n",
    "    try:\n",
    "        \n",
    "        url = 'https://developers.zomato.com/api/v2.1/cities?q='+i+'&count=200'\n",
    "        CITY.append(requests.get(url,headers=header1).json())\n",
    "   \n",
    "    except ValueError:\n",
    "        continue"
   ]
  },
  {
   "cell_type": "code",
   "execution_count": 39,
   "metadata": {
    "collapsed": false
   },
   "outputs": [],
   "source": [
    "with open('/Users/sonalichaudhari/Desktop/FINAL_Python/IDS.csv', 'a') as csvfile:    # Creating a CSV file named 'Data' in write mode as csvfile\n",
    "    fieldnames = ['ID', 'CITY','COUNTRY ID','COUNTRY']  #Naming the title Row of the CSV\n",
    "    writer = csv.DictWriter(csvfile, fieldnames=fieldnames)\n",
    "    writer.writeheader()\n",
    "    for b in range(len(CITY)):\n",
    "        for x in CITY[b]['location_suggestions']:\n",
    "            city_id  =     x['id']\n",
    "            city =  x['name']\n",
    "            c_id =  x['country_id']\n",
    "            c_name = x['country_name']\n",
    "            writer.writerow({'ID':city_id, 'CITY':city,'COUNTRY ID':c_id,'COUNTRY':c_name}) "
   ]
  }
 ],
 "metadata": {
  "anaconda-cloud": {},
  "kernelspec": {
   "display_name": "Python [conda root]",
   "language": "python",
   "name": "conda-root-py"
  },
  "language_info": {
   "codemirror_mode": {
    "name": "ipython",
    "version": 3
   },
   "file_extension": ".py",
   "mimetype": "text/x-python",
   "name": "python",
   "nbconvert_exporter": "python",
   "pygments_lexer": "ipython3",
   "version": "3.5.2"
  }
 },
 "nbformat": 4,
 "nbformat_minor": 1
}
