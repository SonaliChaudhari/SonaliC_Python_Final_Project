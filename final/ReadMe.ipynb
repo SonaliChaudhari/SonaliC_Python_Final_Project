{
 "cells": [
  {
   "cell_type": "markdown",
   "metadata": {
    "collapsed": false
   },
   "source": [
    "# DATA ANALYSIS USING PYTHON - Final Project"
   ]
  },
  {
   "cell_type": "markdown",
   "metadata": {
    "collapsed": false
   },
   "source": [
    "## ZOMATO Dataset Analysis Using API"
   ]
  },
  {
   "cell_type": "markdown",
   "metadata": {},
   "source": [
    "### Zomato is a restaurant search and discovery service founded in 2008 by Deepinder Goyal and Pankaj Chaddah.\n",
    "### It currently operates in 24 countries, including India, Australia and the United States.\n",
    "### It provides information and reviews on restaurants, including images of menus where the restaurant does not have its own website."
   ]
  },
  {
   "cell_type": "markdown",
   "metadata": {
    "collapsed": false
   },
   "source": [
    "### * DATASET"
   ]
  },
  {
   "cell_type": "markdown",
   "metadata": {
    "collapsed": false
   },
   "source": [
    "Data that has been analyzed is taken from ZOMATO.\n",
    "\n",
    "There has been 2 types of API request been done on the ZOMATO dataset.\n",
    "\n",
    "https://developers.zomato.com/documentation#/\n",
    "\n",
    "Cities API:\n",
    "1. Cities details: https://developers.zomato.com/api/v2.1/cities?q='+CityName+'&count=20\n",
    "\n",
    "Search API\n",
    "2. Restaurants details: https://developers.zomato.com/api/v2.1/search?entity_id='+CityID+'&entity_type=city&start=20\n"
   ]
  },
  {
   "cell_type": "markdown",
   "metadata": {
    "collapsed": true
   },
   "source": [
    "### * DATA COLLECTION PROCESSING AND STORAGE"
   ]
  },
  {
   "cell_type": "markdown",
   "metadata": {},
   "source": [
    "### DATA COLLECTED\n",
    "\n",
    "- For 24 Countries\n",
    "- For 533 Cities\n",
    "- Around 44000 restaurant json files"
   ]
  },
  {
   "cell_type": "markdown",
   "metadata": {},
   "source": [
    "#### COLLECTION"
   ]
  },
  {
   "cell_type": "markdown",
   "metadata": {},
   "source": [
    "-  To get list of all the cities of ZOMATO operates:\n",
    "Created a CSV of cities and their countries - https://www.zomato.com/qatar\n",
    "\n",
    "Github link:\n",
    "\n",
    "-  Passed all the cities from the Cities.csv to CITIES API to get the city id for each city using request.get().\n",
    "   Created a csv IDS.csv having all city ids.\n",
    "   - Cities with same name exist in different states or countries with unique ids.\n",
    "   - Maintained another COUNTRY.csv which has country and its id from data obtained from CITIES API.\n",
    "\n",
    "\n",
    "-  Passed the city ids from IDS.csv to SEARCH API to get details about restaurants in that city using request.get()\n",
    "   - For a single request.get() returns only 20 restaurant details and not more."
   ]
  },
  {
   "cell_type": "markdown",
   "metadata": {},
   "source": [
    "#### Extra Files"
   ]
  },
  {
   "cell_type": "markdown",
   "metadata": {},
   "source": [
    "1. Cities.csv\n",
    "2. IDS.csv"
   ]
  },
  {
   "cell_type": "markdown",
   "metadata": {},
   "source": [
    "#### OUPTPUT:  COLLECTING_DATA.ipynb file"
   ]
  },
  {
   "cell_type": "markdown",
   "metadata": {},
   "source": [
    "#### PROCESSING on the Restaurant Data obtained"
   ]
  },
  {
   "cell_type": "markdown",
   "metadata": {},
   "source": [
    "1. For a single request.get() returns only 20 restaurant details and not more.\n",
    "2. Each restaurant detail for a single request.get() call is stored as a single object of a list: final=[ ]\n",
    "3. The restaurant detail doesn't have country name in it but only country id.\n",
    "    - Appended country name to each restaurant object in final[ ] using COUNTRY.csv matching over country id."
   ]
  },
  {
   "cell_type": "markdown",
   "metadata": {},
   "source": [
    "#### STORING"
   ]
  },
  {
   "cell_type": "markdown",
   "metadata": {},
   "source": [
    "1. Each restaurant object in final[ ] is converted to json.\n",
    "2. All JSON Files created are stored in a temporary folder named TEMP\n",
    "3. Folder Structure used:\n",
    "data -> Country -> City -> RestaurantName_ResId.json\n",
    "4. With the above structure each JSON file is moved from TEMP folder to the required location"
   ]
  },
  {
   "cell_type": "markdown",
   "metadata": {},
   "source": [
    "#### OUPTPUT:  STORING_DATA.ipynb file"
   ]
  },
  {
   "cell_type": "markdown",
   "metadata": {},
   "source": [
    "# ANALYSIS PERFORMED"
   ]
  },
  {
   "cell_type": "markdown",
   "metadata": {
    "collapsed": true
   },
   "source": [
    "### * ANALYSIS 1\n",
    "### TOP 5 Cuisines by NUMBER of RESTAURANTS offering them in every COUNTRY "
   ]
  },
  {
   "cell_type": "markdown",
   "metadata": {
    "collapsed": true
   },
   "source": [
    "#### STEPS:"
   ]
  },
  {
   "cell_type": "markdown",
   "metadata": {
    "collapsed": true
   },
   "source": [
    "1. Each restaurant json file have one or multiple cuisines\n",
    "2. Looping through each restaurant json file\n",
    "3. Checking for multiple cuisines for each restaurant json file.\n",
    "4. For every single restaurant and entry per cusine id made in a nested DICT name C={ }\n",
    "5. The data in Dict C is stored in a ANA_1.csv\n",
    "6. ANA_1.csv data is coverted in dataframe\n",
    "7. Dataframe is grouped by Country Name and sorted Restuarants count in descending order\n",
    "8. The top 5 restaurants details is retrieved grouped by country name.\n",
    "9. Top 5 restaurants by restuarant number distribution for US is haown in pie charts form."
   ]
  },
  {
   "cell_type": "markdown",
   "metadata": {},
   "source": [
    "#### OUTPUT:"
   ]
  },
  {
   "cell_type": "markdown",
   "metadata": {},
   "source": [
    "1. ANA_1.csv"
   ]
  },
  {
   "cell_type": "markdown",
   "metadata": {},
   "source": [
    "### * ANALYSIS 2\n",
    "### As Per User Input retrieving the Highest Rated Restaurant details"
   ]
  },
  {
   "cell_type": "markdown",
   "metadata": {
    "collapsed": true
   },
   "source": [
    "#### STEPS:"
   ]
  },
  {
   "cell_type": "markdown",
   "metadata": {},
   "source": [
    "1. Taking user input for city name and storing it in a variable.\n",
    "2. From the data collected and stored of reatuarant json file looping only through the user given city's files.\n",
    "3. Storing the filtered files in a list named temp[]\n",
    "4. Converting temp[ ] data into a ANA_2_PART1.csv\n",
    "5. ANA_2_PART1.csv data is converted into dataframe.\n",
    "6. Dataframe is grouped by cuisnes and sorted by user ratingin descing order.\n",
    "7. Creating ANA_2_PART2.csv having sorted data from dataframe.\n",
    "8. User input for restaurnt id and cusines from above dataframe is taken.\n",
    "9. The user selected restaurant for a particular cuisine in a particulat city details are obatined.\n",
    "10. The final user required restaurant detail is stored in ANA_2_PART.csv"
   ]
  },
  {
   "cell_type": "markdown",
   "metadata": {},
   "source": [
    "#### OUTPUT:"
   ]
  },
  {
   "cell_type": "markdown",
   "metadata": {},
   "source": [
    "1. ANA_2_PART1.csv\n",
    "2. ANA_2_PART2.csv\n",
    "3. ANA_2_PART3.csv"
   ]
  },
  {
   "cell_type": "markdown",
   "metadata": {},
   "source": [
    "### * ANALYSIS 3\n",
    "###  Finding the Nearest 10 Restaurants Given a Address"
   ]
  },
  {
   "cell_type": "markdown",
   "metadata": {},
   "source": [
    "#### REQUIREMENTS:"
   ]
  },
  {
   "cell_type": "markdown",
   "metadata": {},
   "source": [
    "- LIBRARIES: geopy, geocoders installed"
   ]
  },
  {
   "cell_type": "markdown",
   "metadata": {
    "collapsed": true
   },
   "source": [
    "#### STEPS:"
   ]
  },
  {
   "cell_type": "markdown",
   "metadata": {},
   "source": [
    "1. User input for address is taken with street, city, country name.\n",
    "2. Using geolocator complete address for user input is obtained\n",
    "3. The latitude and longitude values for user input address is retrieved and stored in 2 variables.\n",
    "4. Every Json file is looped in the data and loaded.\n",
    "5. The latitude and longitude for each JSON file is stored.\n",
    "6. Distance between the source(user given address) and destination(JSON file) is calculated using 'vincentry()' in miles.\n",
    "7. vincenty() takes latitude and longitude values for source and destination and returns the distance.\n",
    "8. The restuarant JSON files are filtered forhaving distance less than 25 miles.\n",
    "9. The data for filtered restaurant is stored in temp[ ] list.\n",
    "10. A dict DISTANCE{ } contains the res_id as key and the its distance calculated as value. \n",
    "11. DISTANCE{ } is sorted in ascending order and  TOP 10 are stored in S.\n",
    "12. A list RES_ID contains all the keys(res_id) of S.\n",
    "13. A list RES[ ] contains data of all restaurants whose res_id is in RES_ID.\n",
    "14. A ANA_3_PART1.csv(final ouput) giving top 10 nearest restaurant details and their distance is created.\n",
    "15. ANA_3_PART1.csv is converted to Dataframe."
   ]
  },
  {
   "cell_type": "markdown",
   "metadata": {},
   "source": [
    "#### OUTPUT:"
   ]
  },
  {
   "cell_type": "markdown",
   "metadata": {},
   "source": [
    "1. ANA_3_PART1.csv"
   ]
  }
 ],
 "metadata": {
  "anaconda-cloud": {},
  "kernelspec": {
   "display_name": "Python [conda root]",
   "language": "python",
   "name": "conda-root-py"
  },
  "language_info": {
   "codemirror_mode": {
    "name": "ipython",
    "version": 3
   },
   "file_extension": ".py",
   "mimetype": "text/x-python",
   "name": "python",
   "nbconvert_exporter": "python",
   "pygments_lexer": "ipython3",
   "version": "3.5.2"
  }
 },
 "nbformat": 4,
 "nbformat_minor": 1
}
