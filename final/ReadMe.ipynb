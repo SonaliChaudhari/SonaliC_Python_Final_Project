{
 "cells": [
  {
   "cell_type": "markdown",
   "metadata": {
    "collapsed": false
   },
   "source": [
    "# DATA ANALYSIS USING PYTHON - Final Project"
   ]
  },
  {
   "cell_type": "markdown",
   "metadata": {
    "collapsed": false
   },
   "source": [
    "## ZOMATO Dataset Analysis Using API"
   ]
  },
  {
   "cell_type": "markdown",
   "metadata": {},
   "source": [
    "### Zomato is a restaurant search and discovery service founded in 2008 by Deepinder Goyal and Pankaj Chaddah.\n",
    "### It currently operates in 24 countries, including India, Australia and the United States.\n",
    "### It provides information and reviews on restaurants, including images of menus where the restaurant does not have its own website."
   ]
  },
  {
   "cell_type": "markdown",
   "metadata": {
    "collapsed": false
   },
   "source": [
    "### * DATASET"
   ]
  },
  {
   "cell_type": "markdown",
   "metadata": {
    "collapsed": false
   },
   "source": [
    "Data that has been analyzed is taken from ZOMATO.\n",
    "\n",
    "There has been 2 types of API request been done on the ZOMATO dataset.\n",
    "\n",
    "https://developers.zomato.com/documentation#/\n",
    "\n",
    "Cities API:\n",
    "1. Cities details: https://developers.zomato.com/api/v2.1/cities?q='+CityName+'&count=20\n",
    "\n",
    "Search API\n",
    "2. Restaurants details: https://developers.zomato.com/api/v2.1/search?entity_id='+CityID+'&entity_type=city&start=20\n"
   ]
  },
  {
   "cell_type": "markdown",
   "metadata": {
    "collapsed": true
   },
   "source": [
    "### * DATA COLLECTION PROCESSING AND STORAGE"
   ]
  },
  {
   "cell_type": "markdown",
   "metadata": {},
   "source": [
    "#### COLLECTION"
   ]
  },
  {
   "cell_type": "markdown",
   "metadata": {},
   "source": [
    "1. To get list of all the cities of ZOMATO operates:\n",
    "Created a CSV of cities and their countries - https://www.zomato.com/qatar\n",
    "\n",
    "Github link:\n",
    "\n",
    "2. Passed all the cities from the Cities.csv to CITIES API to get the city id for each city using request.get().\n",
    "   Created a csv IDS.csv having all city ids.\n",
    "   - Cities with same name exist in different states or countries with unique ids.\n",
    "   - Maintained another COUNTRY.csv which has country and its id from data obtained from CITIES API.\n",
    "\n",
    "\n",
    "3. Passed the city ids from IDS.csv to SEARCH API to get details about restaurants in that city using request.get()\n",
    "   - For a single request.get() returns only 20 restaurant details and not more."
   ]
  },
  {
   "cell_type": "markdown",
   "metadata": {},
   "source": [
    "#### Extra Files"
   ]
  },
  {
   "cell_type": "markdown",
   "metadata": {},
   "source": [
    "1. Cities.csv\n",
    "2. IDS.csv\n",
    "3. COUNTRY.csv"
   ]
  },
  {
   "cell_type": "markdown",
   "metadata": {},
   "source": [
    "#### PROCESSING on the Restaurant Data obtained"
   ]
  },
  {
   "cell_type": "markdown",
   "metadata": {},
   "source": [
    "1. For a single request.get() returns only 20 restaurant details and not more.\n",
    "2. Each restaurant detail for a single request.get() call is stored as a single object of a list: final=[ ]\n",
    "3. The restaurant detail doesn't have country name in it but only country id.\n",
    "    - Appended country name to each restaurant object in final[ ] using COUNTRY.csv matching over country id."
   ]
  },
  {
   "cell_type": "markdown",
   "metadata": {},
   "source": [
    "#### STORING"
   ]
  },
  {
   "cell_type": "markdown",
   "metadata": {},
   "source": [
    "1. Each restaurant object in final[ ] is converted to json.\n",
    "2. All JSON Files created are stored in a temporary folder named TEMP\n",
    "3. Folder Structure used:\n",
    "data -> Country -> City -> RestaurantName_ResId.json\n",
    "4. With the above structure each JSON file is moved from TEMP folder to the required location"
   ]
  },
  {
   "cell_type": "markdown",
   "metadata": {
    "collapsed": true
   },
   "source": [
    "### * ANALYSIS 1"
   ]
  },
  {
   "cell_type": "code",
   "execution_count": null,
   "metadata": {
    "collapsed": true
   },
   "outputs": [],
   "source": []
  },
  {
   "cell_type": "code",
   "execution_count": null,
   "metadata": {
    "collapsed": true
   },
   "outputs": [],
   "source": []
  },
  {
   "cell_type": "markdown",
   "metadata": {},
   "source": [
    "### * ANALYSIS 2"
   ]
  },
  {
   "cell_type": "code",
   "execution_count": null,
   "metadata": {
    "collapsed": true
   },
   "outputs": [],
   "source": []
  },
  {
   "cell_type": "markdown",
   "metadata": {},
   "source": [
    "### * ANALYSIS 3"
   ]
  },
  {
   "cell_type": "code",
   "execution_count": null,
   "metadata": {
    "collapsed": true
   },
   "outputs": [],
   "source": []
  }
 ],
 "metadata": {
  "anaconda-cloud": {},
  "kernelspec": {
   "display_name": "Python [conda root]",
   "language": "python",
   "name": "conda-root-py"
  },
  "language_info": {
   "codemirror_mode": {
    "name": "ipython",
    "version": 3
   },
   "file_extension": ".py",
   "mimetype": "text/x-python",
   "name": "python",
   "nbconvert_exporter": "python",
   "pygments_lexer": "ipython3",
   "version": "3.5.2"
  }
 },
 "nbformat": 4,
 "nbformat_minor": 1
}
