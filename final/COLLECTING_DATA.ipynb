{
 "cells": [
  {
   "cell_type": "markdown",
   "metadata": {},
   "source": [
    "##  a.       COLLECTING THE DATA"
   ]
  },
  {
   "cell_type": "code",
   "execution_count": 19,
   "metadata": {
    "collapsed": true
   },
   "outputs": [],
   "source": [
    "import os\n",
    "import csv\n",
    "import requests\n",
    "from pprint import pprint\n",
    "import json\n",
    "from datetime import datetime\n",
    "import string\n",
    "import glob"
   ]
  },
  {
   "cell_type": "code",
   "execution_count": 20,
   "metadata": {
    "collapsed": false
   },
   "outputs": [
    {
     "data": {
      "text/plain": [
       "'/Users/sonalichaudhari/Desktop'"
      ]
     },
     "execution_count": 20,
     "metadata": {},
     "output_type": "execute_result"
    }
   ],
   "source": [
    "directory = os.path.dirname(os.getcwd())\n",
    "directory"
   ]
  },
  {
   "cell_type": "code",
   "execution_count": 21,
   "metadata": {
    "collapsed": false
   },
   "outputs": [
    {
     "name": "stdout",
     "output_type": "stream",
     "text": [
      "2ce803cdd97585066baf42ed16933114\n"
     ]
    }
   ],
   "source": [
    "key = os.environ.get('ZOM_KEY')\n",
    "print(key)"
   ]
  },
  {
   "cell_type": "code",
   "execution_count": 22,
   "metadata": {
    "collapsed": false
   },
   "outputs": [
    {
     "data": {
      "text/plain": [
       "{'user-key': '2ce803cdd97585066baf42ed16933114'}"
      ]
     },
     "execution_count": 22,
     "metadata": {},
     "output_type": "execute_result"
    }
   ],
   "source": [
    "header1={'user-key':key}\n",
    "header1"
   ]
  },
  {
   "cell_type": "code",
   "execution_count": 23,
   "metadata": {
    "collapsed": false
   },
   "outputs": [
    {
     "data": {
      "text/plain": [
       "'/Users/sonalichaudhari/Desktop/FINAL_Python/'"
      ]
     },
     "execution_count": 23,
     "metadata": {},
     "output_type": "execute_result"
    }
   ],
   "source": [
    "cur_path= directory+'/FINAL_Python/'\n",
    "cur_path"
   ]
  },
  {
   "cell_type": "code",
   "execution_count": 60,
   "metadata": {
    "collapsed": false
   },
   "outputs": [],
   "source": [
    "City=[]\n",
    "for subdir, dirs, files in os.walk(cur_path):\n",
    "    for file in files:\n",
    "        if file == 'Cities_Excel.csv':\n",
    "            reqpath = os.path.join(subdir,file)\n",
    "            #print(reqpath)\n",
    "            #City =[]\n",
    "            with open(reqpath, newline='') as f:\n",
    "                reader = csv.reader(f)\n",
    "                #reader.next()\n",
    "                try:\n",
    "                    for record in reader:\n",
    "                        c = record[1]\n",
    "                        #print(c)\n",
    "                        if c not in City:\n",
    "                            City.append(c)                  \n",
    "                except csv.Error as e:\n",
    "                    sys.exit('file {}, line {}: {}'.format(filename, reader.line_num, e))"
   ]
  },
  {
   "cell_type": "code",
   "execution_count": 67,
   "metadata": {
    "collapsed": false
   },
   "outputs": [
    {
     "data": {
      "text/plain": [
       "389"
      ]
     },
     "execution_count": 67,
     "metadata": {},
     "output_type": "execute_result"
    }
   ],
   "source": [
    "del City[0]\n",
    "#City\n",
    "len(City)\n",
    "#City[404]"
   ]
  },
  {
   "cell_type": "code",
   "execution_count": 56,
   "metadata": {
    "collapsed": false
   },
   "outputs": [
    {
     "data": {
      "text/plain": [
       "{'has_more': 0,\n",
       " 'has_total': 0,\n",
       " 'location_suggestions': [{'country_id': 123,\n",
       "   'country_name': 'Malaysia',\n",
       "   'discovery_enabled': 0,\n",
       "   'has_new_ad_format': 0,\n",
       "   'id': 11080,\n",
       "   'is_state': 0,\n",
       "   'name': 'Selangor',\n",
       "   'should_experiment_with': 0,\n",
       "   'state_code': '',\n",
       "   'state_id': 0,\n",
       "   'state_name': ''}],\n",
       " 'status': 'success'}"
      ]
     },
     "execution_count": 56,
     "metadata": {},
     "output_type": "execute_result"
    }
   ],
   "source": [
    "city_code[44]"
   ]
  },
  {
   "cell_type": "code",
   "execution_count": 49,
   "metadata": {
    "collapsed": false
   },
   "outputs": [
    {
     "name": "stdout",
     "output_type": "stream",
     "text": [
      "https://developers.zomato.com/api/v2.1/cities?q=Rome&count=200\n",
      "https://developers.zomato.com/api/v2.1/cities?q=Milan&count=200\n",
      "https://developers.zomato.com/api/v2.1/cities?q=Prague&count=200\n",
      "https://developers.zomato.com/api/v2.1/cities?q=Brno&count=200\n",
      "https://developers.zomato.com/api/v2.1/cities?q=Beroun&count=200\n",
      "https://developers.zomato.com/api/v2.1/cities?q=České Budějovice&count=200\n",
      "https://developers.zomato.com/api/v2.1/cities?q=Staré Město&count=200\n",
      "https://developers.zomato.com/api/v2.1/cities?q=Frýdek-Místek&count=200\n",
      "https://developers.zomato.com/api/v2.1/cities?q=Havířov&count=200\n",
      "https://developers.zomato.com/api/v2.1/cities?q=Hradec Králové&count=200\n",
      "https://developers.zomato.com/api/v2.1/cities?q=Karlovy Vary&count=200\n",
      "https://developers.zomato.com/api/v2.1/cities?q=Kladno&count=200\n",
      "https://developers.zomato.com/api/v2.1/cities?q=Kolín&count=200\n",
      "https://developers.zomato.com/api/v2.1/cities?q=Liberec&count=200\n",
      "https://developers.zomato.com/api/v2.1/cities?q=Litoměřice&count=200\n",
      "https://developers.zomato.com/api/v2.1/cities?q=Mělník&count=200\n",
      "https://developers.zomato.com/api/v2.1/cities?q=Mladá Boleslav&count=200\n",
      "https://developers.zomato.com/api/v2.1/cities?q=Nový Jičín&count=200\n",
      "https://developers.zomato.com/api/v2.1/cities?q=Olomouc&count=200\n",
      "https://developers.zomato.com/api/v2.1/cities?q=Ostrava&count=200\n",
      "https://developers.zomato.com/api/v2.1/cities?q=Pardubice&count=200\n",
      "https://developers.zomato.com/api/v2.1/cities?q=Plzeň&count=200\n",
      "https://developers.zomato.com/api/v2.1/cities?q=Poděbrady&count=200\n",
      "https://developers.zomato.com/api/v2.1/cities?q=KolíTeplice&count=200\n",
      "https://developers.zomato.com/api/v2.1/cities?q=Třinec&count=200\n",
      "https://developers.zomato.com/api/v2.1/cities?q=Ústí nad Labemn&count=200\n",
      "https://developers.zomato.com/api/v2.1/cities?q=Brasilia&count=200\n",
      "https://developers.zomato.com/api/v2.1/cities?q=Rio de Janeiro&count=200\n",
      "https://developers.zomato.com/api/v2.1/cities?q=Salvador&count=200\n",
      "https://developers.zomato.com/api/v2.1/cities?q=Porto Alegre&count=200\n",
      "https://developers.zomato.com/api/v2.1/cities?q=Sāo Paulo&count=200\n",
      "https://developers.zomato.com/api/v2.1/cities?q=Santiago &count=200\n",
      "https://developers.zomato.com/api/v2.1/cities?q=Jakarta&count=200\n",
      "https://developers.zomato.com/api/v2.1/cities?q=Bali&count=200\n",
      "https://developers.zomato.com/api/v2.1/cities?q=Bandung&count=200\n",
      "https://developers.zomato.com/api/v2.1/cities?q=Arbour Hill&count=200\n",
      "https://developers.zomato.com/api/v2.1/cities?q=Artane&count=200\n",
      "https://developers.zomato.com/api/v2.1/cities?q=Bray&count=200\n",
      "https://developers.zomato.com/api/v2.1/cities?q=Greystones&count=200\n",
      "https://developers.zomato.com/api/v2.1/cities?q=Wicklow Town&count=200\n",
      "https://developers.zomato.com/api/v2.1/cities?q=Arklow&count=200\n",
      "https://developers.zomato.com/api/v2.1/cities?q=Wicklow County&count=200\n",
      "https://developers.zomato.com/api/v2.1/cities?q=Beirut&count=200\n",
      "https://developers.zomato.com/api/v2.1/cities?q=Kuala Lumpur&count=200\n",
      "https://developers.zomato.com/api/v2.1/cities?q=Selangor&count=200\n",
      "https://developers.zomato.com/api/v2.1/cities?q=City&count=200\n",
      "https://developers.zomato.com/api/v2.1/cities?q=Delhi NCR &count=200\n",
      "https://developers.zomato.com/api/v2.1/cities?q=Mumbai &count=200\n",
      "https://developers.zomato.com/api/v2.1/cities?q=Bangalore &count=200\n",
      "https://developers.zomato.com/api/v2.1/cities?q=Hyderabad &count=200\n",
      "https://developers.zomato.com/api/v2.1/cities?q=Chennai &count=200\n",
      "https://developers.zomato.com/api/v2.1/cities?q=Pune &count=200\n",
      "https://developers.zomato.com/api/v2.1/cities?q=Kolkata &count=200\n",
      "https://developers.zomato.com/api/v2.1/cities?q=Lucknow &count=200\n",
      "https://developers.zomato.com/api/v2.1/cities?q=Ahmedabad &count=200\n",
      "https://developers.zomato.com/api/v2.1/cities?q=Indore &count=200\n",
      "https://developers.zomato.com/api/v2.1/cities?q=Chandigarh &count=200\n",
      "https://developers.zomato.com/api/v2.1/cities?q=Kochi &count=200\n",
      "https://developers.zomato.com/api/v2.1/cities?q=Jaipur&count=200\n",
      "https://developers.zomato.com/api/v2.1/cities?q=Coimbatore&count=200\n",
      "https://developers.zomato.com/api/v2.1/cities?q=Indore&count=200\n",
      "https://developers.zomato.com/api/v2.1/cities?q=Nasik&count=200\n",
      "https://developers.zomato.com/api/v2.1/cities?q=Bhopal&count=200\n",
      "https://developers.zomato.com/api/v2.1/cities?q=Dehradun&count=200\n",
      "https://developers.zomato.com/api/v2.1/cities?q=Varanasi&count=200\n",
      "https://developers.zomato.com/api/v2.1/cities?q=Vadodara&count=200\n",
      "https://developers.zomato.com/api/v2.1/cities?q=Ranchi&count=200\n",
      "https://developers.zomato.com/api/v2.1/cities?q=Goa&count=200\n",
      "https://developers.zomato.com/api/v2.1/cities?q=Nagpur&count=200\n",
      "https://developers.zomato.com/api/v2.1/cities?q=Surat&count=200\n",
      "https://developers.zomato.com/api/v2.1/cities?q=Mysore&count=200\n",
      "https://developers.zomato.com/api/v2.1/cities?q=Patna&count=200\n",
      "https://developers.zomato.com/api/v2.1/cities?q=Shimla&count=200\n",
      "https://developers.zomato.com/api/v2.1/cities?q=Guwahati&count=200\n",
      "https://developers.zomato.com/api/v2.1/cities?q=Agra&count=200\n",
      "https://developers.zomato.com/api/v2.1/cities?q=Puducherry&count=200\n",
      "https://developers.zomato.com/api/v2.1/cities?q=Toowoomba&count=200\n",
      "https://developers.zomato.com/api/v2.1/cities?q=Canberra ACT&count=200\n",
      "https://developers.zomato.com/api/v2.1/cities?q=Tasmania&count=200\n",
      "https://developers.zomato.com/api/v2.1/cities?q=Darwin&count=200\n",
      "https://developers.zomato.com/api/v2.1/cities?q=Melbourne&count=200\n",
      "https://developers.zomato.com/api/v2.1/cities?q=Mornington Peninsula&count=200\n",
      "https://developers.zomato.com/api/v2.1/cities?q=Bendigo&count=200\n",
      "https://developers.zomato.com/api/v2.1/cities?q=Ballarat&count=200\n",
      "https://developers.zomato.com/api/v2.1/cities?q=Gelling&count=200\n",
      "https://developers.zomato.com/api/v2.1/cities?q=Sydney&count=200\n",
      "https://developers.zomato.com/api/v2.1/cities?q=Wollongong&count=200\n",
      "https://developers.zomato.com/api/v2.1/cities?q=Perth&count=200\n",
      "https://developers.zomato.com/api/v2.1/cities?q=City of Mandurah&count=200\n",
      "https://developers.zomato.com/api/v2.1/cities?q=City of Rockingham&count=200\n",
      "https://developers.zomato.com/api/v2.1/cities?q=Adelaide&count=200\n",
      "https://developers.zomato.com/api/v2.1/cities?q=Brisbane&count=200\n",
      "https://developers.zomato.com/api/v2.1/cities?q=Townsville&count=200\n",
      "https://developers.zomato.com/api/v2.1/cities?q=Cairns&count=200\n",
      "https://developers.zomato.com/api/v2.1/cities?q=Dallas&count=200\n",
      "https://developers.zomato.com/api/v2.1/cities?q=Houston&count=200\n",
      "https://developers.zomato.com/api/v2.1/cities?q=NEW YORK STATE&count=200\n",
      "https://developers.zomato.com/api/v2.1/cities?q=Finger Lakes Region&count=200\n",
      "https://developers.zomato.com/api/v2.1/cities?q=Jamestown&count=200\n",
      "https://developers.zomato.com/api/v2.1/cities?q=Plattsburgh&count=200\n",
      "https://developers.zomato.com/api/v2.1/cities?q=Austin&count=200\n",
      "https://developers.zomato.com/api/v2.1/cities?q=Victoria&count=200\n",
      "https://developers.zomato.com/api/v2.1/cities?q=Longview&count=200\n",
      "https://developers.zomato.com/api/v2.1/cities?q=Irving&count=200\n",
      "https://developers.zomato.com/api/v2.1/cities?q=Haltom City&count=200\n",
      "https://developers.zomato.com/api/v2.1/cities?q=Mckkiney&count=200\n",
      "https://developers.zomato.com/api/v2.1/cities?q=Arlington&count=200\n",
      "https://developers.zomato.com/api/v2.1/cities?q=Richardson&count=200\n",
      "https://developers.zomato.com/api/v2.1/cities?q=Sherman&count=200\n",
      "https://developers.zomato.com/api/v2.1/cities?q=Abilene&count=200\n",
      "https://developers.zomato.com/api/v2.1/cities?q=Allen&count=200\n",
      "https://developers.zomato.com/api/v2.1/cities?q=Seattle State&count=200\n",
      "https://developers.zomato.com/api/v2.1/cities?q=Olympia&count=200\n",
      "https://developers.zomato.com/api/v2.1/cities?q=Bellevue&count=200\n",
      "https://developers.zomato.com/api/v2.1/cities?q=Kirkland&count=200\n",
      "https://developers.zomato.com/api/v2.1/cities?q=Auburn&count=200\n",
      "https://developers.zomato.com/api/v2.1/cities?q=Vancouver&count=200\n",
      "https://developers.zomato.com/api/v2.1/cities?q=Everett&count=200\n",
      "https://developers.zomato.com/api/v2.1/cities?q=Lynwood&count=200\n",
      "https://developers.zomato.com/api/v2.1/cities?q=Los Angeles&count=200\n",
      "https://developers.zomato.com/api/v2.1/cities?q=San Diego&count=200\n",
      "https://developers.zomato.com/api/v2.1/cities?q=San Francisco&count=200\n",
      "https://developers.zomato.com/api/v2.1/cities?q=Ventura Country&count=200\n",
      "https://developers.zomato.com/api/v2.1/cities?q=Orange County&count=200\n",
      "https://developers.zomato.com/api/v2.1/cities?q=Oakland&count=200\n",
      "https://developers.zomato.com/api/v2.1/cities?q=Berkeley&count=200\n",
      "https://developers.zomato.com/api/v2.1/cities?q=Walnut&count=200\n",
      "https://developers.zomato.com/api/v2.1/cities?q=Burbank&count=200\n",
      "https://developers.zomato.com/api/v2.1/cities?q=Manhattan Beach&count=200\n",
      "https://developers.zomato.com/api/v2.1/cities?q=Palo Alto&count=200\n",
      "https://developers.zomato.com/api/v2.1/cities?q=Mountain View&count=200\n",
      "https://developers.zomato.com/api/v2.1/cities?q=Novato&count=200\n",
      "https://developers.zomato.com/api/v2.1/cities?q=Newark&count=200\n",
      "https://developers.zomato.com/api/v2.1/cities?q=Santa Clarita&count=200\n",
      "https://developers.zomato.com/api/v2.1/cities?q=Santa Monica&count=200\n",
      "https://developers.zomato.com/api/v2.1/cities?q=Las Vegas &count=200\n",
      "https://developers.zomato.com/api/v2.1/cities?q=Reno&count=200\n",
      "https://developers.zomato.com/api/v2.1/cities?q=Washington DC &count=200\n",
      "https://developers.zomato.com/api/v2.1/cities?q=Benton Harbour&count=200\n",
      "https://developers.zomato.com/api/v2.1/cities?q=Port Huron&count=200\n",
      "https://developers.zomato.com/api/v2.1/cities?q=Marquette&count=200\n",
      "https://developers.zomato.com/api/v2.1/cities?q=Mt Pleasant&count=200\n",
      "https://developers.zomato.com/api/v2.1/cities?q=Roseburg&count=200\n",
      "https://developers.zomato.com/api/v2.1/cities?q=Gresham&count=200\n",
      "https://developers.zomato.com/api/v2.1/cities?q=Newport&count=200\n",
      "https://developers.zomato.com/api/v2.1/cities?q=Milwaukie&count=200\n",
      "https://developers.zomato.com/api/v2.1/cities?q=hood River&count=200\n",
      "https://developers.zomato.com/api/v2.1/cities?q=Philadelphia&count=200\n",
      "https://developers.zomato.com/api/v2.1/cities?q=Pittsburg&count=200\n",
      "https://developers.zomato.com/api/v2.1/cities?q=Johnstown&count=200\n",
      "https://developers.zomato.com/api/v2.1/cities?q=Lancaster&count=200\n",
      "https://developers.zomato.com/api/v2.1/cities?q=Delaware&count=200\n",
      "https://developers.zomato.com/api/v2.1/cities?q=Main Line&count=200\n",
      "https://developers.zomato.com/api/v2.1/cities?q=Atlanta&count=200\n",
      "https://developers.zomato.com/api/v2.1/cities?q=Albany&count=200\n",
      "https://developers.zomato.com/api/v2.1/cities?q=Dalton&count=200\n",
      "https://developers.zomato.com/api/v2.1/cities?q=Athens&count=200\n",
      "https://developers.zomato.com/api/v2.1/cities?q=Savannah&count=200\n",
      "https://developers.zomato.com/api/v2.1/cities?q=Columbus&count=200\n",
      "https://developers.zomato.com/api/v2.1/cities?q=Brunswick&count=200\n",
      "https://developers.zomato.com/api/v2.1/cities?q=Carrollton&count=200\n",
      "https://developers.zomato.com/api/v2.1/cities?q=Rome&count=200\n",
      "https://developers.zomato.com/api/v2.1/cities?q=Statesboro&count=200\n",
      "https://developers.zomato.com/api/v2.1/cities?q=Lagrange&count=200\n",
      "https://developers.zomato.com/api/v2.1/cities?q=Boston&count=200\n",
      "https://developers.zomato.com/api/v2.1/cities?q=Cape Cod&count=200\n",
      "https://developers.zomato.com/api/v2.1/cities?q=New Bedford&count=200\n",
      "https://developers.zomato.com/api/v2.1/cities?q=Metheun&count=200\n",
      "https://developers.zomato.com/api/v2.1/cities?q=Lawrence&count=200\n",
      "https://developers.zomato.com/api/v2.1/cities?q=Haverhill&count=200\n",
      "https://developers.zomato.com/api/v2.1/cities?q=Worcester&count=200\n",
      "https://developers.zomato.com/api/v2.1/cities?q=Lowell&count=200\n",
      "https://developers.zomato.com/api/v2.1/cities?q=Pittsfield&count=200\n",
      "https://developers.zomato.com/api/v2.1/cities?q=Fitchburg&count=200\n",
      "https://developers.zomato.com/api/v2.1/cities?q=Northampton&count=200\n",
      "https://developers.zomato.com/api/v2.1/cities?q=Springfield&count=200\n",
      "https://developers.zomato.com/api/v2.1/cities?q=New Orleans&count=200\n",
      "https://developers.zomato.com/api/v2.1/cities?q=Monroe&count=200\n",
      "https://developers.zomato.com/api/v2.1/cities?q=Lake Charles&count=200\n",
      "https://developers.zomato.com/api/v2.1/cities?q=Hammond&count=200\n",
      "https://developers.zomato.com/api/v2.1/cities?q=Alexandria&count=200\n",
      "https://developers.zomato.com/api/v2.1/cities?q=Miami&count=200\n",
      "https://developers.zomato.com/api/v2.1/cities?q=Panama&count=200\n",
      "https://developers.zomato.com/api/v2.1/cities?q=Orlando&count=200\n",
      "https://developers.zomato.com/api/v2.1/cities?q=Tampa Bay&count=200\n",
      "https://developers.zomato.com/api/v2.1/cities?q=Florida Keys&count=200\n",
      "https://developers.zomato.com/api/v2.1/cities?q=Jacksonville&count=200\n",
      "https://developers.zomato.com/api/v2.1/cities?q=Melbourne&count=200\n",
      "https://developers.zomato.com/api/v2.1/cities?q=Destin&count=200\n",
      "https://developers.zomato.com/api/v2.1/cities?q=Venice&count=200\n",
      "https://developers.zomato.com/api/v2.1/cities?q=Port Charlotte&count=200\n",
      "https://developers.zomato.com/api/v2.1/cities?q=Brooksville&count=200\n",
      "https://developers.zomato.com/api/v2.1/cities?q=Chicago&count=200\n",
      "https://developers.zomato.com/api/v2.1/cities?q=Quincy&count=200\n",
      "https://developers.zomato.com/api/v2.1/cities?q=Bloomington&count=200\n",
      "https://developers.zomato.com/api/v2.1/cities?q=Crystal Lake&count=200\n",
      "https://developers.zomato.com/api/v2.1/cities?q=Alton&count=200\n",
      "https://developers.zomato.com/api/v2.1/cities?q=Ottawa&count=200\n",
      "https://developers.zomato.com/api/v2.1/cities?q=Belleville&count=200\n",
      "https://developers.zomato.com/api/v2.1/cities?q=Peru&count=200\n",
      "https://developers.zomato.com/api/v2.1/cities?q=Peoria&count=200\n",
      "https://developers.zomato.com/api/v2.1/cities?q=Galesburg&count=200\n",
      "https://developers.zomato.com/api/v2.1/cities?q=Moline&count=200\n",
      "https://developers.zomato.com/api/v2.1/cities?q=Danville&count=200\n",
      "https://developers.zomato.com/api/v2.1/cities?q=Phoenix&count=200\n",
      "https://developers.zomato.com/api/v2.1/cities?q=Tempe&count=200\n",
      "https://developers.zomato.com/api/v2.1/cities?q=Mesa&count=200\n",
      "https://developers.zomato.com/api/v2.1/cities?q=Chandler&count=200\n",
      "https://developers.zomato.com/api/v2.1/cities?q=Yuma&count=200\n",
      "https://developers.zomato.com/api/v2.1/cities?q=Tucson&count=200\n",
      "https://developers.zomato.com/api/v2.1/cities?q=Gilbert&count=200\n",
      "https://developers.zomato.com/api/v2.1/cities?q=Flagstaff&count=200\n",
      "https://developers.zomato.com/api/v2.1/cities?q=Surprise&count=200\n",
      "https://developers.zomato.com/api/v2.1/cities?q=Charlotte&count=200\n",
      "https://developers.zomato.com/api/v2.1/cities?q=Asheville&count=200\n",
      "https://developers.zomato.com/api/v2.1/cities?q=Wilson&count=200\n",
      "https://developers.zomato.com/api/v2.1/cities?q=Greenville&count=200\n",
      "https://developers.zomato.com/api/v2.1/cities?q=Boone&count=200\n",
      "https://developers.zomato.com/api/v2.1/cities?q=Hickory&count=200\n",
      "https://developers.zomato.com/api/v2.1/cities?q=Shelby&count=200\n",
      "https://developers.zomato.com/api/v2.1/cities?q=New Bern&count=200\n",
      "https://developers.zomato.com/api/v2.1/cities?q=Rocky Mountain&count=200\n",
      "https://developers.zomato.com/api/v2.1/cities?q=Sanford&count=200\n",
      "https://developers.zomato.com/api/v2.1/cities?q=COLORADO  Springs&count=200\n"
     ]
    },
    {
     "ename": "KeyboardInterrupt",
     "evalue": "",
     "output_type": "error",
     "traceback": [
      "\u001b[0;31m---------------------------------------------------------------------------\u001b[0m",
      "\u001b[0;31mTypeError\u001b[0m                                 Traceback (most recent call last)",
      "\u001b[0;32m/Users/sonalichaudhari/anaconda/lib/python3.5/site-packages/requests/packages/urllib3/connectionpool.py\u001b[0m in \u001b[0;36m_make_request\u001b[0;34m(self, conn, method, url, timeout, chunked, **httplib_request_kw)\u001b[0m\n\u001b[1;32m    383\u001b[0m             \u001b[0;32mtry\u001b[0m\u001b[0;34m:\u001b[0m  \u001b[0;31m# Python 2.7, use buffering of HTTP responses\u001b[0m\u001b[0;34m\u001b[0m\u001b[0m\n\u001b[0;32m--> 384\u001b[0;31m                 \u001b[0mhttplib_response\u001b[0m \u001b[0;34m=\u001b[0m \u001b[0mconn\u001b[0m\u001b[0;34m.\u001b[0m\u001b[0mgetresponse\u001b[0m\u001b[0;34m(\u001b[0m\u001b[0mbuffering\u001b[0m\u001b[0;34m=\u001b[0m\u001b[0;32mTrue\u001b[0m\u001b[0;34m)\u001b[0m\u001b[0;34m\u001b[0m\u001b[0m\n\u001b[0m\u001b[1;32m    385\u001b[0m             \u001b[0;32mexcept\u001b[0m \u001b[0mTypeError\u001b[0m\u001b[0;34m:\u001b[0m  \u001b[0;31m# Python 2.6 and older, Python 3\u001b[0m\u001b[0;34m\u001b[0m\u001b[0m\n",
      "\u001b[0;31mTypeError\u001b[0m: getresponse() got an unexpected keyword argument 'buffering'",
      "\nDuring handling of the above exception, another exception occurred:\n",
      "\u001b[0;31mKeyboardInterrupt\u001b[0m                         Traceback (most recent call last)",
      "\u001b[0;32m<ipython-input-49-f808c80e2f41>\u001b[0m in \u001b[0;36m<module>\u001b[0;34m()\u001b[0m\n\u001b[1;32m      3\u001b[0m         \u001b[0murl2\u001b[0m \u001b[0;34m=\u001b[0m \u001b[0;34m'https://developers.zomato.com/api/v2.1/cities?q='\u001b[0m\u001b[0;34m+\u001b[0m\u001b[0mi\u001b[0m\u001b[0;34m+\u001b[0m\u001b[0;34m'&count=200'\u001b[0m\u001b[0;34m\u001b[0m\u001b[0m\n\u001b[1;32m      4\u001b[0m         \u001b[0mprint\u001b[0m\u001b[0;34m(\u001b[0m\u001b[0murl2\u001b[0m\u001b[0;34m)\u001b[0m\u001b[0;34m\u001b[0m\u001b[0m\n\u001b[0;32m----> 5\u001b[0;31m         \u001b[0mcity_code\u001b[0m\u001b[0;34m.\u001b[0m\u001b[0mappend\u001b[0m\u001b[0;34m(\u001b[0m\u001b[0mrequests\u001b[0m\u001b[0;34m.\u001b[0m\u001b[0mget\u001b[0m\u001b[0;34m(\u001b[0m\u001b[0murl2\u001b[0m\u001b[0;34m,\u001b[0m\u001b[0mheaders\u001b[0m\u001b[0;34m=\u001b[0m\u001b[0mheader1\u001b[0m\u001b[0;34m)\u001b[0m\u001b[0;34m.\u001b[0m\u001b[0mjson\u001b[0m\u001b[0;34m(\u001b[0m\u001b[0;34m)\u001b[0m\u001b[0;34m)\u001b[0m\u001b[0;34m\u001b[0m\u001b[0m\n\u001b[0m\u001b[1;32m      6\u001b[0m     \u001b[0;32mexcept\u001b[0m \u001b[0mValueError\u001b[0m\u001b[0;34m:\u001b[0m\u001b[0;34m\u001b[0m\u001b[0m\n\u001b[1;32m      7\u001b[0m         \u001b[0;32mcontinue\u001b[0m\u001b[0;34m\u001b[0m\u001b[0m\n",
      "\u001b[0;32m/Users/sonalichaudhari/anaconda/lib/python3.5/site-packages/requests/api.py\u001b[0m in \u001b[0;36mget\u001b[0;34m(url, params, **kwargs)\u001b[0m\n\u001b[1;32m     68\u001b[0m \u001b[0;34m\u001b[0m\u001b[0m\n\u001b[1;32m     69\u001b[0m     \u001b[0mkwargs\u001b[0m\u001b[0;34m.\u001b[0m\u001b[0msetdefault\u001b[0m\u001b[0;34m(\u001b[0m\u001b[0;34m'allow_redirects'\u001b[0m\u001b[0;34m,\u001b[0m \u001b[0;32mTrue\u001b[0m\u001b[0;34m)\u001b[0m\u001b[0;34m\u001b[0m\u001b[0m\n\u001b[0;32m---> 70\u001b[0;31m     \u001b[0;32mreturn\u001b[0m \u001b[0mrequest\u001b[0m\u001b[0;34m(\u001b[0m\u001b[0;34m'get'\u001b[0m\u001b[0;34m,\u001b[0m \u001b[0murl\u001b[0m\u001b[0;34m,\u001b[0m \u001b[0mparams\u001b[0m\u001b[0;34m=\u001b[0m\u001b[0mparams\u001b[0m\u001b[0;34m,\u001b[0m \u001b[0;34m**\u001b[0m\u001b[0mkwargs\u001b[0m\u001b[0;34m)\u001b[0m\u001b[0;34m\u001b[0m\u001b[0m\n\u001b[0m\u001b[1;32m     71\u001b[0m \u001b[0;34m\u001b[0m\u001b[0m\n\u001b[1;32m     72\u001b[0m \u001b[0;34m\u001b[0m\u001b[0m\n",
      "\u001b[0;32m/Users/sonalichaudhari/anaconda/lib/python3.5/site-packages/requests/api.py\u001b[0m in \u001b[0;36mrequest\u001b[0;34m(method, url, **kwargs)\u001b[0m\n\u001b[1;32m     54\u001b[0m     \u001b[0;31m# cases, and look like a memory leak in others.\u001b[0m\u001b[0;34m\u001b[0m\u001b[0;34m\u001b[0m\u001b[0m\n\u001b[1;32m     55\u001b[0m     \u001b[0;32mwith\u001b[0m \u001b[0msessions\u001b[0m\u001b[0;34m.\u001b[0m\u001b[0mSession\u001b[0m\u001b[0;34m(\u001b[0m\u001b[0;34m)\u001b[0m \u001b[0;32mas\u001b[0m \u001b[0msession\u001b[0m\u001b[0;34m:\u001b[0m\u001b[0;34m\u001b[0m\u001b[0m\n\u001b[0;32m---> 56\u001b[0;31m         \u001b[0;32mreturn\u001b[0m \u001b[0msession\u001b[0m\u001b[0;34m.\u001b[0m\u001b[0mrequest\u001b[0m\u001b[0;34m(\u001b[0m\u001b[0mmethod\u001b[0m\u001b[0;34m=\u001b[0m\u001b[0mmethod\u001b[0m\u001b[0;34m,\u001b[0m \u001b[0murl\u001b[0m\u001b[0;34m=\u001b[0m\u001b[0murl\u001b[0m\u001b[0;34m,\u001b[0m \u001b[0;34m**\u001b[0m\u001b[0mkwargs\u001b[0m\u001b[0;34m)\u001b[0m\u001b[0;34m\u001b[0m\u001b[0m\n\u001b[0m\u001b[1;32m     57\u001b[0m \u001b[0;34m\u001b[0m\u001b[0m\n\u001b[1;32m     58\u001b[0m \u001b[0;34m\u001b[0m\u001b[0m\n",
      "\u001b[0;32m/Users/sonalichaudhari/anaconda/lib/python3.5/site-packages/requests/sessions.py\u001b[0m in \u001b[0;36mrequest\u001b[0;34m(self, method, url, params, data, headers, cookies, files, auth, timeout, allow_redirects, proxies, hooks, stream, verify, cert, json)\u001b[0m\n\u001b[1;32m    486\u001b[0m         }\n\u001b[1;32m    487\u001b[0m         \u001b[0msend_kwargs\u001b[0m\u001b[0;34m.\u001b[0m\u001b[0mupdate\u001b[0m\u001b[0;34m(\u001b[0m\u001b[0msettings\u001b[0m\u001b[0;34m)\u001b[0m\u001b[0;34m\u001b[0m\u001b[0m\n\u001b[0;32m--> 488\u001b[0;31m         \u001b[0mresp\u001b[0m \u001b[0;34m=\u001b[0m \u001b[0mself\u001b[0m\u001b[0;34m.\u001b[0m\u001b[0msend\u001b[0m\u001b[0;34m(\u001b[0m\u001b[0mprep\u001b[0m\u001b[0;34m,\u001b[0m \u001b[0;34m**\u001b[0m\u001b[0msend_kwargs\u001b[0m\u001b[0;34m)\u001b[0m\u001b[0;34m\u001b[0m\u001b[0m\n\u001b[0m\u001b[1;32m    489\u001b[0m \u001b[0;34m\u001b[0m\u001b[0m\n\u001b[1;32m    490\u001b[0m         \u001b[0;32mreturn\u001b[0m \u001b[0mresp\u001b[0m\u001b[0;34m\u001b[0m\u001b[0m\n",
      "\u001b[0;32m/Users/sonalichaudhari/anaconda/lib/python3.5/site-packages/requests/sessions.py\u001b[0m in \u001b[0;36msend\u001b[0;34m(self, request, **kwargs)\u001b[0m\n\u001b[1;32m    607\u001b[0m \u001b[0;34m\u001b[0m\u001b[0m\n\u001b[1;32m    608\u001b[0m         \u001b[0;31m# Send the request\u001b[0m\u001b[0;34m\u001b[0m\u001b[0;34m\u001b[0m\u001b[0m\n\u001b[0;32m--> 609\u001b[0;31m         \u001b[0mr\u001b[0m \u001b[0;34m=\u001b[0m \u001b[0madapter\u001b[0m\u001b[0;34m.\u001b[0m\u001b[0msend\u001b[0m\u001b[0;34m(\u001b[0m\u001b[0mrequest\u001b[0m\u001b[0;34m,\u001b[0m \u001b[0;34m**\u001b[0m\u001b[0mkwargs\u001b[0m\u001b[0;34m)\u001b[0m\u001b[0;34m\u001b[0m\u001b[0m\n\u001b[0m\u001b[1;32m    610\u001b[0m \u001b[0;34m\u001b[0m\u001b[0m\n\u001b[1;32m    611\u001b[0m         \u001b[0;31m# Total elapsed time of the request (approximately)\u001b[0m\u001b[0;34m\u001b[0m\u001b[0;34m\u001b[0m\u001b[0m\n",
      "\u001b[0;32m/Users/sonalichaudhari/anaconda/lib/python3.5/site-packages/requests/adapters.py\u001b[0m in \u001b[0;36msend\u001b[0;34m(self, request, stream, timeout, verify, cert, proxies)\u001b[0m\n\u001b[1;32m    421\u001b[0m                     \u001b[0mdecode_content\u001b[0m\u001b[0;34m=\u001b[0m\u001b[0;32mFalse\u001b[0m\u001b[0;34m,\u001b[0m\u001b[0;34m\u001b[0m\u001b[0m\n\u001b[1;32m    422\u001b[0m                     \u001b[0mretries\u001b[0m\u001b[0;34m=\u001b[0m\u001b[0mself\u001b[0m\u001b[0;34m.\u001b[0m\u001b[0mmax_retries\u001b[0m\u001b[0;34m,\u001b[0m\u001b[0;34m\u001b[0m\u001b[0m\n\u001b[0;32m--> 423\u001b[0;31m                     \u001b[0mtimeout\u001b[0m\u001b[0;34m=\u001b[0m\u001b[0mtimeout\u001b[0m\u001b[0;34m\u001b[0m\u001b[0m\n\u001b[0m\u001b[1;32m    424\u001b[0m                 )\n\u001b[1;32m    425\u001b[0m \u001b[0;34m\u001b[0m\u001b[0m\n",
      "\u001b[0;32m/Users/sonalichaudhari/anaconda/lib/python3.5/site-packages/requests/packages/urllib3/connectionpool.py\u001b[0m in \u001b[0;36murlopen\u001b[0;34m(self, method, url, body, headers, retries, redirect, assert_same_host, timeout, pool_timeout, release_conn, chunked, **response_kw)\u001b[0m\n\u001b[1;32m    592\u001b[0m                                                   \u001b[0mtimeout\u001b[0m\u001b[0;34m=\u001b[0m\u001b[0mtimeout_obj\u001b[0m\u001b[0;34m,\u001b[0m\u001b[0;34m\u001b[0m\u001b[0m\n\u001b[1;32m    593\u001b[0m                                                   \u001b[0mbody\u001b[0m\u001b[0;34m=\u001b[0m\u001b[0mbody\u001b[0m\u001b[0;34m,\u001b[0m \u001b[0mheaders\u001b[0m\u001b[0;34m=\u001b[0m\u001b[0mheaders\u001b[0m\u001b[0;34m,\u001b[0m\u001b[0;34m\u001b[0m\u001b[0m\n\u001b[0;32m--> 594\u001b[0;31m                                                   chunked=chunked)\n\u001b[0m\u001b[1;32m    595\u001b[0m \u001b[0;34m\u001b[0m\u001b[0m\n\u001b[1;32m    596\u001b[0m             \u001b[0;31m# If we're going to release the connection in ``finally:``, then\u001b[0m\u001b[0;34m\u001b[0m\u001b[0;34m\u001b[0m\u001b[0m\n",
      "\u001b[0;32m/Users/sonalichaudhari/anaconda/lib/python3.5/site-packages/requests/packages/urllib3/connectionpool.py\u001b[0m in \u001b[0;36m_make_request\u001b[0;34m(self, conn, method, url, timeout, chunked, **httplib_request_kw)\u001b[0m\n\u001b[1;32m    385\u001b[0m             \u001b[0;32mexcept\u001b[0m \u001b[0mTypeError\u001b[0m\u001b[0;34m:\u001b[0m  \u001b[0;31m# Python 2.6 and older, Python 3\u001b[0m\u001b[0;34m\u001b[0m\u001b[0m\n\u001b[1;32m    386\u001b[0m                 \u001b[0;32mtry\u001b[0m\u001b[0;34m:\u001b[0m\u001b[0;34m\u001b[0m\u001b[0m\n\u001b[0;32m--> 387\u001b[0;31m                     \u001b[0mhttplib_response\u001b[0m \u001b[0;34m=\u001b[0m \u001b[0mconn\u001b[0m\u001b[0;34m.\u001b[0m\u001b[0mgetresponse\u001b[0m\u001b[0;34m(\u001b[0m\u001b[0;34m)\u001b[0m\u001b[0;34m\u001b[0m\u001b[0m\n\u001b[0m\u001b[1;32m    388\u001b[0m                 \u001b[0;32mexcept\u001b[0m \u001b[0mException\u001b[0m \u001b[0;32mas\u001b[0m \u001b[0me\u001b[0m\u001b[0;34m:\u001b[0m\u001b[0;34m\u001b[0m\u001b[0m\n\u001b[1;32m    389\u001b[0m                     \u001b[0;31m# Remove the TypeError from the exception chain in Python 3;\u001b[0m\u001b[0;34m\u001b[0m\u001b[0;34m\u001b[0m\u001b[0m\n",
      "\u001b[0;32m/Users/sonalichaudhari/anaconda/lib/python3.5/http/client.py\u001b[0m in \u001b[0;36mgetresponse\u001b[0;34m(self)\u001b[0m\n\u001b[1;32m   1195\u001b[0m         \u001b[0;32mtry\u001b[0m\u001b[0;34m:\u001b[0m\u001b[0;34m\u001b[0m\u001b[0m\n\u001b[1;32m   1196\u001b[0m             \u001b[0;32mtry\u001b[0m\u001b[0;34m:\u001b[0m\u001b[0;34m\u001b[0m\u001b[0m\n\u001b[0;32m-> 1197\u001b[0;31m                 \u001b[0mresponse\u001b[0m\u001b[0;34m.\u001b[0m\u001b[0mbegin\u001b[0m\u001b[0;34m(\u001b[0m\u001b[0;34m)\u001b[0m\u001b[0;34m\u001b[0m\u001b[0m\n\u001b[0m\u001b[1;32m   1198\u001b[0m             \u001b[0;32mexcept\u001b[0m \u001b[0mConnectionError\u001b[0m\u001b[0;34m:\u001b[0m\u001b[0;34m\u001b[0m\u001b[0m\n\u001b[1;32m   1199\u001b[0m                 \u001b[0mself\u001b[0m\u001b[0;34m.\u001b[0m\u001b[0mclose\u001b[0m\u001b[0;34m(\u001b[0m\u001b[0;34m)\u001b[0m\u001b[0;34m\u001b[0m\u001b[0m\n",
      "\u001b[0;32m/Users/sonalichaudhari/anaconda/lib/python3.5/http/client.py\u001b[0m in \u001b[0;36mbegin\u001b[0;34m(self)\u001b[0m\n\u001b[1;32m    295\u001b[0m         \u001b[0;31m# read until we get a non-100 response\u001b[0m\u001b[0;34m\u001b[0m\u001b[0;34m\u001b[0m\u001b[0m\n\u001b[1;32m    296\u001b[0m         \u001b[0;32mwhile\u001b[0m \u001b[0;32mTrue\u001b[0m\u001b[0;34m:\u001b[0m\u001b[0;34m\u001b[0m\u001b[0m\n\u001b[0;32m--> 297\u001b[0;31m             \u001b[0mversion\u001b[0m\u001b[0;34m,\u001b[0m \u001b[0mstatus\u001b[0m\u001b[0;34m,\u001b[0m \u001b[0mreason\u001b[0m \u001b[0;34m=\u001b[0m \u001b[0mself\u001b[0m\u001b[0;34m.\u001b[0m\u001b[0m_read_status\u001b[0m\u001b[0;34m(\u001b[0m\u001b[0;34m)\u001b[0m\u001b[0;34m\u001b[0m\u001b[0m\n\u001b[0m\u001b[1;32m    298\u001b[0m             \u001b[0;32mif\u001b[0m \u001b[0mstatus\u001b[0m \u001b[0;34m!=\u001b[0m \u001b[0mCONTINUE\u001b[0m\u001b[0;34m:\u001b[0m\u001b[0;34m\u001b[0m\u001b[0m\n\u001b[1;32m    299\u001b[0m                 \u001b[0;32mbreak\u001b[0m\u001b[0;34m\u001b[0m\u001b[0m\n",
      "\u001b[0;32m/Users/sonalichaudhari/anaconda/lib/python3.5/http/client.py\u001b[0m in \u001b[0;36m_read_status\u001b[0;34m(self)\u001b[0m\n\u001b[1;32m    256\u001b[0m \u001b[0;34m\u001b[0m\u001b[0m\n\u001b[1;32m    257\u001b[0m     \u001b[0;32mdef\u001b[0m \u001b[0m_read_status\u001b[0m\u001b[0;34m(\u001b[0m\u001b[0mself\u001b[0m\u001b[0;34m)\u001b[0m\u001b[0;34m:\u001b[0m\u001b[0;34m\u001b[0m\u001b[0m\n\u001b[0;32m--> 258\u001b[0;31m         \u001b[0mline\u001b[0m \u001b[0;34m=\u001b[0m \u001b[0mstr\u001b[0m\u001b[0;34m(\u001b[0m\u001b[0mself\u001b[0m\u001b[0;34m.\u001b[0m\u001b[0mfp\u001b[0m\u001b[0;34m.\u001b[0m\u001b[0mreadline\u001b[0m\u001b[0;34m(\u001b[0m\u001b[0m_MAXLINE\u001b[0m \u001b[0;34m+\u001b[0m \u001b[0;36m1\u001b[0m\u001b[0;34m)\u001b[0m\u001b[0;34m,\u001b[0m \u001b[0;34m\"iso-8859-1\"\u001b[0m\u001b[0;34m)\u001b[0m\u001b[0;34m\u001b[0m\u001b[0m\n\u001b[0m\u001b[1;32m    259\u001b[0m         \u001b[0;32mif\u001b[0m \u001b[0mlen\u001b[0m\u001b[0;34m(\u001b[0m\u001b[0mline\u001b[0m\u001b[0;34m)\u001b[0m \u001b[0;34m>\u001b[0m \u001b[0m_MAXLINE\u001b[0m\u001b[0;34m:\u001b[0m\u001b[0;34m\u001b[0m\u001b[0m\n\u001b[1;32m    260\u001b[0m             \u001b[0;32mraise\u001b[0m \u001b[0mLineTooLong\u001b[0m\u001b[0;34m(\u001b[0m\u001b[0;34m\"status line\"\u001b[0m\u001b[0;34m)\u001b[0m\u001b[0;34m\u001b[0m\u001b[0m\n",
      "\u001b[0;32m/Users/sonalichaudhari/anaconda/lib/python3.5/socket.py\u001b[0m in \u001b[0;36mreadinto\u001b[0;34m(self, b)\u001b[0m\n\u001b[1;32m    573\u001b[0m         \u001b[0;32mwhile\u001b[0m \u001b[0;32mTrue\u001b[0m\u001b[0;34m:\u001b[0m\u001b[0;34m\u001b[0m\u001b[0m\n\u001b[1;32m    574\u001b[0m             \u001b[0;32mtry\u001b[0m\u001b[0;34m:\u001b[0m\u001b[0;34m\u001b[0m\u001b[0m\n\u001b[0;32m--> 575\u001b[0;31m                 \u001b[0;32mreturn\u001b[0m \u001b[0mself\u001b[0m\u001b[0;34m.\u001b[0m\u001b[0m_sock\u001b[0m\u001b[0;34m.\u001b[0m\u001b[0mrecv_into\u001b[0m\u001b[0;34m(\u001b[0m\u001b[0mb\u001b[0m\u001b[0;34m)\u001b[0m\u001b[0;34m\u001b[0m\u001b[0m\n\u001b[0m\u001b[1;32m    576\u001b[0m             \u001b[0;32mexcept\u001b[0m \u001b[0mtimeout\u001b[0m\u001b[0;34m:\u001b[0m\u001b[0;34m\u001b[0m\u001b[0m\n\u001b[1;32m    577\u001b[0m                 \u001b[0mself\u001b[0m\u001b[0;34m.\u001b[0m\u001b[0m_timeout_occurred\u001b[0m \u001b[0;34m=\u001b[0m \u001b[0;32mTrue\u001b[0m\u001b[0;34m\u001b[0m\u001b[0m\n",
      "\u001b[0;32m/Users/sonalichaudhari/anaconda/lib/python3.5/site-packages/requests/packages/urllib3/contrib/pyopenssl.py\u001b[0m in \u001b[0;36mrecv_into\u001b[0;34m(self, *args, **kwargs)\u001b[0m\n\u001b[1;32m    254\u001b[0m     \u001b[0;32mdef\u001b[0m \u001b[0mrecv_into\u001b[0m\u001b[0;34m(\u001b[0m\u001b[0mself\u001b[0m\u001b[0;34m,\u001b[0m \u001b[0;34m*\u001b[0m\u001b[0margs\u001b[0m\u001b[0;34m,\u001b[0m \u001b[0;34m**\u001b[0m\u001b[0mkwargs\u001b[0m\u001b[0;34m)\u001b[0m\u001b[0;34m:\u001b[0m\u001b[0;34m\u001b[0m\u001b[0m\n\u001b[1;32m    255\u001b[0m         \u001b[0;32mtry\u001b[0m\u001b[0;34m:\u001b[0m\u001b[0;34m\u001b[0m\u001b[0m\n\u001b[0;32m--> 256\u001b[0;31m             \u001b[0;32mreturn\u001b[0m \u001b[0mself\u001b[0m\u001b[0;34m.\u001b[0m\u001b[0mconnection\u001b[0m\u001b[0;34m.\u001b[0m\u001b[0mrecv_into\u001b[0m\u001b[0;34m(\u001b[0m\u001b[0;34m*\u001b[0m\u001b[0margs\u001b[0m\u001b[0;34m,\u001b[0m \u001b[0;34m**\u001b[0m\u001b[0mkwargs\u001b[0m\u001b[0;34m)\u001b[0m\u001b[0;34m\u001b[0m\u001b[0m\n\u001b[0m\u001b[1;32m    257\u001b[0m         \u001b[0;32mexcept\u001b[0m \u001b[0mOpenSSL\u001b[0m\u001b[0;34m.\u001b[0m\u001b[0mSSL\u001b[0m\u001b[0;34m.\u001b[0m\u001b[0mSysCallError\u001b[0m \u001b[0;32mas\u001b[0m \u001b[0me\u001b[0m\u001b[0;34m:\u001b[0m\u001b[0;34m\u001b[0m\u001b[0m\n\u001b[1;32m    258\u001b[0m             \u001b[0;32mif\u001b[0m \u001b[0mself\u001b[0m\u001b[0;34m.\u001b[0m\u001b[0msuppress_ragged_eofs\u001b[0m \u001b[0;32mand\u001b[0m \u001b[0me\u001b[0m\u001b[0;34m.\u001b[0m\u001b[0margs\u001b[0m \u001b[0;34m==\u001b[0m \u001b[0;34m(\u001b[0m\u001b[0;34m-\u001b[0m\u001b[0;36m1\u001b[0m\u001b[0;34m,\u001b[0m \u001b[0;34m'Unexpected EOF'\u001b[0m\u001b[0;34m)\u001b[0m\u001b[0;34m:\u001b[0m\u001b[0;34m\u001b[0m\u001b[0m\n",
      "\u001b[0;32m/Users/sonalichaudhari/anaconda/lib/python3.5/site-packages/OpenSSL/SSL.py\u001b[0m in \u001b[0;36mrecv_into\u001b[0;34m(self, buffer, nbytes, flags)\u001b[0m\n\u001b[1;32m   1332\u001b[0m             \u001b[0mresult\u001b[0m \u001b[0;34m=\u001b[0m \u001b[0m_lib\u001b[0m\u001b[0;34m.\u001b[0m\u001b[0mSSL_peek\u001b[0m\u001b[0;34m(\u001b[0m\u001b[0mself\u001b[0m\u001b[0;34m.\u001b[0m\u001b[0m_ssl\u001b[0m\u001b[0;34m,\u001b[0m \u001b[0mbuf\u001b[0m\u001b[0;34m,\u001b[0m \u001b[0mnbytes\u001b[0m\u001b[0;34m)\u001b[0m\u001b[0;34m\u001b[0m\u001b[0m\n\u001b[1;32m   1333\u001b[0m         \u001b[0;32melse\u001b[0m\u001b[0;34m:\u001b[0m\u001b[0;34m\u001b[0m\u001b[0m\n\u001b[0;32m-> 1334\u001b[0;31m             \u001b[0mresult\u001b[0m \u001b[0;34m=\u001b[0m \u001b[0m_lib\u001b[0m\u001b[0;34m.\u001b[0m\u001b[0mSSL_read\u001b[0m\u001b[0;34m(\u001b[0m\u001b[0mself\u001b[0m\u001b[0;34m.\u001b[0m\u001b[0m_ssl\u001b[0m\u001b[0;34m,\u001b[0m \u001b[0mbuf\u001b[0m\u001b[0;34m,\u001b[0m \u001b[0mnbytes\u001b[0m\u001b[0;34m)\u001b[0m\u001b[0;34m\u001b[0m\u001b[0m\n\u001b[0m\u001b[1;32m   1335\u001b[0m         \u001b[0mself\u001b[0m\u001b[0;34m.\u001b[0m\u001b[0m_raise_ssl_error\u001b[0m\u001b[0;34m(\u001b[0m\u001b[0mself\u001b[0m\u001b[0;34m.\u001b[0m\u001b[0m_ssl\u001b[0m\u001b[0;34m,\u001b[0m \u001b[0mresult\u001b[0m\u001b[0;34m)\u001b[0m\u001b[0;34m\u001b[0m\u001b[0m\n\u001b[1;32m   1336\u001b[0m \u001b[0;34m\u001b[0m\u001b[0m\n",
      "\u001b[0;31mKeyboardInterrupt\u001b[0m: "
     ]
    }
   ],
   "source": [
    "for i in City[359:809]:\n",
    "    try:\n",
    "        url2 = 'https://developers.zomato.com/api/v2.1/cities?q='+i+'&count=200'\n",
    "        print(url2)\n",
    "        city_code.append(requests.get(url2,headers=header1).json())\n",
    "    except ValueError:\n",
    "        continue"
   ]
  },
  {
   "cell_type": "code",
   "execution_count": 69,
   "metadata": {
    "collapsed": false
   },
   "outputs": [],
   "source": [
    "with open('IDS.csv', 'w') as csvfile:    # Creating a CSV file named 'Data' in write mode as csvfile\n",
    "    fieldnames = ['ID', 'CITY','COUNTRY ID','COUNTRY']  #Naming the title Row of the CSV\n",
    "    writer = csv.DictWriter(csvfile, fieldnames=fieldnames)\n",
    "    writer.writeheader()\n",
    "    for b in range(len(city_code)):\n",
    "        for x in city_code[b]['location_suggestions']:\n",
    "            city_id  =     x['id']\n",
    "            city =  x['name']\n",
    "            c_id =  x['country_id']\n",
    "            c_name = x['country_name']\n",
    "            writer.writerow({'ID':city_id, 'CITY':city,'COUNTRY ID':c_id,'COUNTRY':c_name}) "
   ]
  },
  {
   "cell_type": "code",
   "execution_count": null,
   "metadata": {
    "collapsed": true
   },
   "outputs": [],
   "source": []
  }
 ],
 "metadata": {
  "anaconda-cloud": {},
  "kernelspec": {
   "display_name": "Python [conda root]",
   "language": "python",
   "name": "conda-root-py"
  },
  "language_info": {
   "codemirror_mode": {
    "name": "ipython",
    "version": 3
   },
   "file_extension": ".py",
   "mimetype": "text/x-python",
   "name": "python",
   "nbconvert_exporter": "python",
   "pygments_lexer": "ipython3",
   "version": "3.5.2"
  }
 },
 "nbformat": 4,
 "nbformat_minor": 1
}
